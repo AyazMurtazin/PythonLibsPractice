{
  "nbformat": 4,
  "nbformat_minor": 0,
  "metadata": {
    "colab": {
      "provenance": [],
      "name": "Библиотека_ibis.ipynb",
      "include_colab_link": true
    },
    "kernelspec": {
      "name": "python3",
      "display_name": "Python 3"
    },
    "language_info": {
      "name": "python"
    }
  },
  "cells": [
    {
      "cell_type": "markdown",
      "metadata": {
        "id": "view-in-github",
        "colab_type": "text"
      },
      "source": [
        "<a href=\"https://colab.research.google.com/github/AyazMurtazin/PythonLibsPractice/blob/main/%D0%91%D0%B8%D0%B1%D0%BB%D0%B8%D0%BE%D1%82%D0%B5%D0%BA%D0%B0_ibis.ipynb\" target=\"_parent\"><img src=\"https://colab.research.google.com/assets/colab-badge.svg\" alt=\"Open In Colab\"/></a>"
      ]
    },
    {
      "cell_type": "markdown",
      "source": [
        "#Библиотека Ibis\n",
        "\n"
      ],
      "metadata": {
        "id": "FXMrWoEz3JOu"
      }
    },
    {
      "cell_type": "markdown",
      "source": [
        "## Введение\n",
        "\n"
      ],
      "metadata": {
        "id": "8BJPklmXAFWe"
      }
    },
    {
      "cell_type": "markdown",
      "source": [
        "Ibis — это библиотека Python, предназначенная для работы с большими объемами данных. Она предоставляет простой и интуитивно понятный интерфейс для создания сложных запросов и анализа данных, позволяя пользователям легко интегрировать работу с базами данных, такими как SQL, с анализом данных в Python. Библиотека Ibis позволяет писать код на Python, который затем преобразуется в SQL, что делает её удобной для аналитиков и разработчиков, которые предпочитают работать с высокоуровневыми языками, а не с сырыми SQL-запросами.\n",
        "\n"
      ],
      "metadata": {
        "id": "v4ViPGCcAGSt"
      }
    },
    {
      "cell_type": "markdown",
      "source": [
        "### Основные возможности Ibis\n",
        "\n",
        "- **Абстракция источников данных**: Ibis поддерживает различные источники данных, такие как SQL-базы данных, Parquet-файлы, данные в Hadoop и многие другие.\n",
        "- **Создание выражений**: Ibis позволяет создавать сложные запросы с помощью выражений, которые затем преобразуются в SQL.\n",
        "- **Интеграция с Pandas**: Позволяет работать с данными в стиле Pandas, что делает библиотеку удобной для пользователей, знакомых с этой библиотекой.\n",
        "- **Параллельная обработка**: Возможности параллельной обработки позволяют эффективно работать с большими наборами данных.\n",
        "\n"
      ],
      "metadata": {
        "id": "IRpqQvNlAIKe"
      }
    },
    {
      "cell_type": "markdown",
      "source": [
        "## Установка Ibis\n",
        "\n",
        "Для начала работы с библиотекой Ibis необходимо установить её. Это можно сделать с помощью pip:\n",
        "\n",
        "\n"
      ],
      "metadata": {
        "id": "V7FQK3npAJ81"
      }
    },
    {
      "cell_type": "code",
      "source": [
        "!pip install ibis-framework\n",
        "\n",
        "\n"
      ],
      "metadata": {
        "id": "OlWtPZVVAMRF",
        "colab": {
          "base_uri": "https://localhost:8080/"
        },
        "outputId": "28d471dc-7192-4086-b1dd-4b032ea2f461"
      },
      "execution_count": 27,
      "outputs": [
        {
          "output_type": "stream",
          "name": "stdout",
          "text": [
            "Requirement already satisfied: ibis-framework in /usr/local/lib/python3.11/dist-packages (9.2.0)\n",
            "Requirement already satisfied: atpublic<5,>=2.3 in /usr/local/lib/python3.11/dist-packages (from ibis-framework) (4.1.0)\n",
            "Requirement already satisfied: numpy<3,>=1.23.2 in /usr/local/lib/python3.11/dist-packages (from ibis-framework) (1.26.4)\n",
            "Requirement already satisfied: pandas<3,>=1.5.3 in /usr/local/lib/python3.11/dist-packages (from ibis-framework) (2.2.2)\n",
            "Requirement already satisfied: parsy<3,>=2 in /usr/local/lib/python3.11/dist-packages (from ibis-framework) (2.1)\n",
            "Requirement already satisfied: python-dateutil<3,>=2.8.2 in /usr/local/lib/python3.11/dist-packages (from ibis-framework) (2.8.2)\n",
            "Requirement already satisfied: pytz>=2022.7 in /usr/local/lib/python3.11/dist-packages (from ibis-framework) (2025.1)\n",
            "Requirement already satisfied: rich<14,>=12.4.4 in /usr/local/lib/python3.11/dist-packages (from ibis-framework) (13.9.4)\n",
            "Requirement already satisfied: sqlglot<25.7,>=23.4 in /usr/local/lib/python3.11/dist-packages (from ibis-framework) (25.6.1)\n",
            "Requirement already satisfied: toolz<1,>=0.11 in /usr/local/lib/python3.11/dist-packages (from ibis-framework) (0.12.1)\n",
            "Requirement already satisfied: typing-extensions<5,>=4.3.0 in /usr/local/lib/python3.11/dist-packages (from ibis-framework) (4.12.2)\n",
            "Requirement already satisfied: tzdata>=2022.7 in /usr/local/lib/python3.11/dist-packages (from pandas<3,>=1.5.3->ibis-framework) (2025.1)\n",
            "Requirement already satisfied: six>=1.5 in /usr/local/lib/python3.11/dist-packages (from python-dateutil<3,>=2.8.2->ibis-framework) (1.17.0)\n",
            "Requirement already satisfied: markdown-it-py>=2.2.0 in /usr/local/lib/python3.11/dist-packages (from rich<14,>=12.4.4->ibis-framework) (3.0.0)\n",
            "Requirement already satisfied: pygments<3.0.0,>=2.13.0 in /usr/local/lib/python3.11/dist-packages (from rich<14,>=12.4.4->ibis-framework) (2.18.0)\n",
            "Requirement already satisfied: mdurl~=0.1 in /usr/local/lib/python3.11/dist-packages (from markdown-it-py>=2.2.0->rich<14,>=12.4.4->ibis-framework) (0.1.2)\n"
          ]
        }
      ]
    },
    {
      "cell_type": "markdown",
      "source": [
        "## Основные концепции Ibis\n",
        "\n"
      ],
      "metadata": {
        "id": "RxZc8JTLANVl"
      }
    },
    {
      "cell_type": "markdown",
      "source": [
        "### 1. Ibis Expressions\n",
        "\n",
        "Ibis использует концепцию выражений, которая позволяет пользователям описывать операции с данными, не указывая конкретные SQL-запросы. Например, мы можем описать выражение, которое будет производить агрегацию данных.\n",
        "\n",
        "### 2. Таблицы и столбцы\n",
        "\n",
        "В Ibis данные организованы в виде таблиц и столбцов, что делает её схожей с реляционными базами данных. Каждая таблица представляется объектом, который позволяет нам взаимодействовать со столбцами и выполнять операции, такие как фильтрация, агрегация и группировка.\n",
        "\n",
        "## Пример работы с Ibis\n",
        "\n",
        "Теперь рассмотрим простой пример работы с Ibis. Для этого мы будем использовать SQLite как источник данных, но Ibis поддерживает множество других источников, таких как PostgreSQL, MySQL и другие.\n",
        "\n",
        "### Создание базы данных SQLite\n",
        "\n",
        "Для демонстрации работы с Ibis создадим простую SQLite базу данных с таблицей \"employees\".\n",
        "\n",
        "\n"
      ],
      "metadata": {
        "id": "O6CeMPz4ATL4"
      }
    },
    {
      "cell_type": "code",
      "source": [
        "import sqlite3\n",
        "\n"
      ],
      "metadata": {
        "id": "_BAcEQ4qAXks"
      },
      "execution_count": 28,
      "outputs": []
    },
    {
      "cell_type": "code",
      "source": [
        "# Создаем соединение с базой данных\n",
        "\n",
        "connection = sqlite3.connect('example.db')\n",
        "\n",
        "\n",
        "# Создаем курсор для выполнения SQL-запросов\n",
        "\n",
        "cursor = connection.cursor()\n",
        "\n",
        "\n",
        "# Создаем таблицу employees\n",
        "\n",
        "cursor.execute('''\n",
        "CREATE TABLE employees (\n",
        "    id INTEGER PRIMARY KEY,\n",
        "    name TEXT,\n",
        "    department TEXT,\n",
        "    salary REAL\n",
        ")\n",
        "''')\n",
        "\n",
        "\n",
        "# Добавляем данные\n",
        "\n",
        "employees = [\n",
        "    (1, 'Alice', 'HR', 70000),\n",
        "    (2, 'Bob', 'Engineering', 80000),\n",
        "    (3, 'Charlie', 'Sales', 60000),\n",
        "    (4, 'David', 'Engineering', 90000),\n",
        "    (5, 'Eva', 'HR', 75000)\n",
        "]\n",
        "\n",
        "cursor.executemany('INSERT INTO employees VALUES (?, ?, ?, ?)', employees)\n",
        "\n",
        "\n",
        "# Сохраняем изменения и закрываем соединение\n",
        "\n",
        "connection.commit()\n",
        "connection.close()\n",
        "\n",
        "\n"
      ],
      "metadata": {
        "id": "Mgl9neOzAfKd"
      },
      "execution_count": 29,
      "outputs": []
    },
    {
      "cell_type": "markdown",
      "source": [
        "В этом примере мы создали таблицу `employees`, содержащую информацию о сотрудниках, включая их имя, отдел и зарплату.\n",
        "\n"
      ],
      "metadata": {
        "id": "FCYCRvEOSbW6"
      }
    },
    {
      "cell_type": "markdown",
      "source": [
        "### Подключение Ibis к базе данных\n",
        "\n"
      ],
      "metadata": {
        "id": "sRpv2aARScMf"
      }
    },
    {
      "cell_type": "markdown",
      "source": [
        "Теперь давайте подключим Ibis к нашей базе данных и создадим выражение для выборки данных.\n",
        "\n",
        "\n"
      ],
      "metadata": {
        "id": "7ZJEc3lySdBo"
      }
    },
    {
      "cell_type": "code",
      "source": [
        "import ibis\n",
        "\n",
        "# Подключаемся к базе данных SQLite\n",
        "ibis_connection = ibis.sqlite.connect('example.db')\n",
        "\n",
        "# Получаем таблицу employees\n",
        "employees_table = ibis_connection.table('employees')\n",
        "\n",
        "\n"
      ],
      "metadata": {
        "id": "VP6rDJC6SebA"
      },
      "execution_count": 30,
      "outputs": []
    },
    {
      "cell_type": "markdown",
      "source": [
        "### Создание простого запроса\n",
        "\n",
        "Теперь, когда у нас есть таблица, давайте создадим простой запрос, который выберет всех сотрудников с зарплатой выше 70000.\n",
        "\n"
      ],
      "metadata": {
        "id": "XiOLbESKShVP"
      }
    },
    {
      "cell_type": "code",
      "source": [
        "# Создаем выражение для фильтрации\n",
        "query = employees_table[employees_table.salary > 70000]\n",
        "\n",
        "# Преобразуем выражение в SQL\n",
        "sql_query = query.compile()\n",
        "\n",
        "# Выводим SQL-запрос\n",
        "print(sql_query)\n",
        "\n",
        "\n"
      ],
      "metadata": {
        "id": "TPXMwsbgSjNn",
        "colab": {
          "base_uri": "https://localhost:8080/"
        },
        "outputId": "56bd07dd-8a90-4e2d-dd6e-81b8e5431401"
      },
      "execution_count": 31,
      "outputs": [
        {
          "output_type": "stream",
          "name": "stdout",
          "text": [
            "SELECT * FROM \"employees\" AS \"t0\" WHERE \"t0\".\"salary\" > 70000\n"
          ]
        }
      ]
    },
    {
      "cell_type": "markdown",
      "source": [
        "#### Объяснение кода\n",
        "\n",
        "- Мы используем `employees_table[salary > 70000]` для создания выражения, которое выбирает всех сотрудников с зарплатой выше 70000.\n",
        "- Метод `compile()` преобразует выражение Ibis в SQL-запрос, который можно выполнить в базе данных.\n",
        "\n",
        "### Выполнение запроса\n",
        "\n",
        "Для выполнения запроса мы можем использовать метод `execute()`.\n",
        "\n",
        "\n"
      ],
      "metadata": {
        "id": "OEL-BfufSk64"
      }
    },
    {
      "cell_type": "code",
      "source": [
        "# Выполняем запрос и получаем результат\n",
        "result = query.execute()\n",
        "\n",
        "# Выводим результат\n",
        "print(result)\n",
        "\n",
        "\n"
      ],
      "metadata": {
        "id": "enhA_lvRSnLo",
        "colab": {
          "base_uri": "https://localhost:8080/"
        },
        "outputId": "6cfab015-fba8-4a69-92d8-603ed78eee0d"
      },
      "execution_count": 32,
      "outputs": [
        {
          "output_type": "stream",
          "name": "stdout",
          "text": [
            "   id   name   department   salary\n",
            "0   2    Bob  Engineering  80000.0\n",
            "1   4  David  Engineering  90000.0\n",
            "2   5    Eva           HR  75000.0\n"
          ]
        }
      ]
    },
    {
      "cell_type": "markdown",
      "source": [
        "### Пример агрегации данных\n",
        "\n",
        "Теперь рассмотрим пример агрегации данных. Мы можем посчитать среднюю зарплату сотрудников по отделам.\n",
        "\n",
        "\n"
      ],
      "metadata": {
        "id": "RIlceYfdSoXQ"
      }
    },
    {
      "cell_type": "code",
      "source": [
        "# Создаем выражение для группировки и агрегации\n",
        "average_salary = (\n",
        "    employees_table.group_by('department')\n",
        "    .aggregate(avg_salary=employees_table.salary.mean())\n",
        ")\n",
        "\n",
        "# Преобразуем выражение в SQL\n",
        "sql_query_avg = average_salary.compile()\n",
        "\n",
        "# Выводим SQL-запрос\n",
        "print(sql_query_avg)\n",
        "\n",
        "# Выполняем запрос и получаем результат\n",
        "result_avg = average_salary.execute()\n",
        "\n",
        "# Выводим результат\n",
        "print(result_avg)\n",
        "\n",
        "\n"
      ],
      "metadata": {
        "id": "-QfY7HqRSp34",
        "colab": {
          "base_uri": "https://localhost:8080/"
        },
        "outputId": "6bcb12d3-0620-425b-b8bb-cc85b1d2bc02"
      },
      "execution_count": 33,
      "outputs": [
        {
          "output_type": "stream",
          "name": "stdout",
          "text": [
            "SELECT \"t0\".\"department\", AVG(\"t0\".\"salary\") AS \"avg_salary\" FROM \"employees\" AS \"t0\" GROUP BY 1\n",
            "    department  avg_salary\n",
            "0  Engineering     85000.0\n",
            "1           HR     72500.0\n",
            "2        Sales     60000.0\n"
          ]
        }
      ]
    },
    {
      "cell_type": "markdown",
      "source": [
        "#### Объяснение кода\n",
        "\n",
        "- Мы используем `group_by('department')` для группировки данных по отделам.\n",
        "- Метод `aggregate(avg_salary=employees_table.salary.mean())` вычисляет среднюю зарплату для каждой группы.\n",
        "- После выполнения запроса выводится средняя зарплата по каждому отделу.\n",
        "\n",
        "\n",
        "\n"
      ],
      "metadata": {
        "id": "15dMe0gLSsAY"
      }
    },
    {
      "cell_type": "markdown",
      "source": [
        "## 1. Работа с различными источниками данных\n",
        "\n",
        "### 1.1 Подключение к разным базам данных\n",
        "\n",
        "Библиотека Ibis предоставляет пользователям возможность осуществлять соединения с различными системами управления базами данных (СУБД). Это делает её универсальным инструментом для анализа данных, так как она поддерживает множество SQL-движков, включая PostgreSQL, MySQL, SQLite, а также распределённые базы данных, такие как Apache Impala и Dask.\n",
        "\n",
        "Подключение к базе данных осуществляется через создание объекта подключения, в который передаются параметры соединения. В следующем примере мы создадим подключение к PostgreSQL и извлечем данные из таблицы.\n",
        "\n",
        "```python\n",
        "import ibis\n",
        "\n",
        "# Указываем параметры подключения\n",
        "postgres_connection = ibis.postgres.connect(\n",
        "    host='localhost',\n",
        "    database='your_database',\n",
        "    user='your_username',\n",
        "    password='your_password'\n",
        ")\n",
        "\n",
        "# Получаем таблицу\n",
        "employees_table = postgres_connection.table('employees')\n",
        "\n",
        "\n",
        "\n",
        "```"
      ],
      "metadata": {
        "id": "8yR6wxKfVHfQ"
      }
    },
    {
      "cell_type": "markdown",
      "source": [
        "#### Объяснение кода\n",
        "В этом примере мы используем метод `ibis.postgres.connect()` для создания подключения к базе данных PostgreSQL. После успешного соединения мы получаем доступ к таблице `employees`, что позволяет нам выполнять запросы на основе её данных.\n",
        "\n",
        "### 1.2 Чтение данных из файлов\n",
        "\n",
        "В дополнение к работе с СУБД, Ibis также поддерживает загрузку данных из файлов различных форматов, включая CSV и Parquet. Это делает библиотеку удобной для работы с данными, хранящимися в файловой системе.\n",
        "\n",
        "Пример ниже демонстрирует, как можно загрузить данные из CSV-файла и создать таблицу Ibis для последующего анализа.\n",
        "\n",
        "\n"
      ],
      "metadata": {
        "id": "CePZ7YosVLk4"
      }
    },
    {
      "cell_type": "code",
      "source": [
        "import csv\n",
        "\n",
        "# Define the employee data\n",
        "employees = [\n",
        "    (6, 'Alice', 'HR', 70000),\n",
        "    (7, 'Bob', 'Engineering', 80000),\n",
        "    (8, 'Charlie', 'Sales', 60000),\n",
        "    (9, 'David', 'Engineering', 90000),\n",
        "    (10, 'Eva', 'HR', 75000)\n",
        "]\n",
        "\n",
        "# Define the CSV file name\n",
        "csv_file = 'employees.csv'\n",
        "\n",
        "# Write the data to the CSV file\n",
        "with open(csv_file, mode='w', newline='') as file:\n",
        "    writer = csv.writer(file)\n",
        "\n",
        "    # Write the header\n",
        "    writer.writerow(['ID', 'Name', 'Department', 'Salary'])\n",
        "\n",
        "    # Write the employee data\n",
        "    writer.writerows(employees)\n",
        "\n",
        "print(f\"CSV file '{csv_file}' created successfully.\")"
      ],
      "metadata": {
        "colab": {
          "base_uri": "https://localhost:8080/"
        },
        "id": "mTMABwVDYB6g",
        "outputId": "8471ff94-492a-468f-af3e-702efc7ad609"
      },
      "execution_count": 34,
      "outputs": [
        {
          "output_type": "stream",
          "name": "stdout",
          "text": [
            "CSV file 'employees.csv' created successfully.\n"
          ]
        }
      ]
    },
    {
      "cell_type": "code",
      "source": [
        "!pip install ibis-framework"
      ],
      "metadata": {
        "colab": {
          "base_uri": "https://localhost:8080/"
        },
        "id": "QR6QsgxDYROI",
        "outputId": "badd46fb-f14f-44e9-fd2c-f019bb4ff3db"
      },
      "execution_count": 35,
      "outputs": [
        {
          "output_type": "stream",
          "name": "stdout",
          "text": [
            "Requirement already satisfied: ibis-framework in /usr/local/lib/python3.11/dist-packages (9.2.0)\n",
            "Requirement already satisfied: atpublic<5,>=2.3 in /usr/local/lib/python3.11/dist-packages (from ibis-framework) (4.1.0)\n",
            "Requirement already satisfied: numpy<3,>=1.23.2 in /usr/local/lib/python3.11/dist-packages (from ibis-framework) (1.26.4)\n",
            "Requirement already satisfied: pandas<3,>=1.5.3 in /usr/local/lib/python3.11/dist-packages (from ibis-framework) (2.2.2)\n",
            "Requirement already satisfied: parsy<3,>=2 in /usr/local/lib/python3.11/dist-packages (from ibis-framework) (2.1)\n",
            "Requirement already satisfied: python-dateutil<3,>=2.8.2 in /usr/local/lib/python3.11/dist-packages (from ibis-framework) (2.8.2)\n",
            "Requirement already satisfied: pytz>=2022.7 in /usr/local/lib/python3.11/dist-packages (from ibis-framework) (2025.1)\n",
            "Requirement already satisfied: rich<14,>=12.4.4 in /usr/local/lib/python3.11/dist-packages (from ibis-framework) (13.9.4)\n",
            "Requirement already satisfied: sqlglot<25.7,>=23.4 in /usr/local/lib/python3.11/dist-packages (from ibis-framework) (25.6.1)\n",
            "Requirement already satisfied: toolz<1,>=0.11 in /usr/local/lib/python3.11/dist-packages (from ibis-framework) (0.12.1)\n",
            "Requirement already satisfied: typing-extensions<5,>=4.3.0 in /usr/local/lib/python3.11/dist-packages (from ibis-framework) (4.12.2)\n",
            "Requirement already satisfied: tzdata>=2022.7 in /usr/local/lib/python3.11/dist-packages (from pandas<3,>=1.5.3->ibis-framework) (2025.1)\n",
            "Requirement already satisfied: six>=1.5 in /usr/local/lib/python3.11/dist-packages (from python-dateutil<3,>=2.8.2->ibis-framework) (1.17.0)\n",
            "Requirement already satisfied: markdown-it-py>=2.2.0 in /usr/local/lib/python3.11/dist-packages (from rich<14,>=12.4.4->ibis-framework) (3.0.0)\n",
            "Requirement already satisfied: pygments<3.0.0,>=2.13.0 in /usr/local/lib/python3.11/dist-packages (from rich<14,>=12.4.4->ibis-framework) (2.18.0)\n",
            "Requirement already satisfied: mdurl~=0.1 in /usr/local/lib/python3.11/dist-packages (from markdown-it-py>=2.2.0->rich<14,>=12.4.4->ibis-framework) (0.1.2)\n"
          ]
        }
      ]
    },
    {
      "cell_type": "code",
      "source": [
        "import ibis\n",
        "print(ibis.__version__)  # Check the version of Ibis\n",
        "print(ibis.backends)     # Check available backends"
      ],
      "metadata": {
        "colab": {
          "base_uri": "https://localhost:8080/"
        },
        "id": "XvTrpnsVY7sv",
        "outputId": "6c6af8af-524a-425e-8648-4e4f251d2549"
      },
      "execution_count": 36,
      "outputs": [
        {
          "output_type": "stream",
          "name": "stdout",
          "text": [
            "9.2.0\n",
            "<module 'ibis.backends' from '/usr/local/lib/python3.11/dist-packages/ibis/backends/__init__.py'>\n"
          ]
        }
      ]
    },
    {
      "cell_type": "markdown",
      "source": [
        "__Colab Problem__: AttributeError: module 'ibis' has no attribute 'pandas'.\n",
        "```python\n",
        "import pandas as pd\n",
        "import ibis\n",
        "\n",
        "\n",
        "# Step 1: Read the CSV file into a Pandas DataFrame\n",
        "df = pd.read_csv('employees.csv')\n",
        "\n",
        "# Step 2: Connect to the DataFrame using Ibis\n",
        "# Use the Pandas backend\n",
        "connection = ibis.pandas.connect({'employees': df})\n",
        "\n",
        "# Step 3: Load the DataFrame as an Ibis table\n",
        "ibis_table = connection.table('employees')\n",
        "\n",
        "# Step 4: Verify the Ibis table\n",
        "print(ibis_table)\n",
        "```"
      ],
      "metadata": {
        "id": "_VIqvCiGS9Oj"
      }
    },
    {
      "cell_type": "markdown",
      "source": [
        "#### Объяснение кода\n",
        "В данном случае мы используем библиотеку Pandas для чтения данных из CSV-файла и создания DataFrame. Затем мы инициализируем соединение Ibis с этим DataFrame, что позволяет выполнять аналитические запросы с использованием функциональности Ibis.\n",
        "\n",
        "## 2. Сложные запросы\n",
        "\n",
        "### 2.1 Соединение таблиц (Join)\n",
        "\n",
        "Одной из ключевых операций в анализе данных является объединение таблиц (join), которое позволяет сочетать информацию из различных источников. Ibis предоставляет простую и интуитивно понятную нотацию для выполнения таких операций.\n",
        "\n",
        "В следующем примере мы рассмотрим, как можно выполнить соединение между таблицей сотрудников и таблицей отделов, чтобы получить информацию о местоположении каждого сотрудника.\n",
        "```python\n",
        "# Создаем таблицу departments\n",
        "departments_table = postgres_connection.table('departments')\n",
        "\n",
        "# Выполняем соединение\n",
        "query = (\n",
        "    employees_table\n",
        "    .join(departments_table, employees_table.department == departments_table.name)\n",
        "    .select(employees_table.name, departments_table.location)\n",
        ")\n",
        "\n",
        "# Преобразуем выражение в SQL и выполняем\n",
        "result = query.execute()\n",
        "print(result)\n",
        "```\n",
        "\n"
      ],
      "metadata": {
        "id": "mwvF6X29VdI3"
      }
    },
    {
      "cell_type": "markdown",
      "source": [
        "\n",
        "#### Объяснение кода\n",
        "В этом примере мы используем метод `join()` для соединения таблицы `employees` с таблицей `departments`. Соединение выполняется по условию, что значение столбца `department` в таблице `employees` соответствует имени отдела в таблице `departments`. После этого мы выбираем только необходимые столбцы: имя сотрудника и местоположение отдела. Наконец, запрос выполняется с помощью метода `execute()`, что возвращает результат в виде DataFrame.\n",
        "\n",
        "### 2.2 Подзапросы и вложенные запросы\n",
        "\n",
        "Подзапросы, или вложенные запросы, представляют собой мощный инструмент для выполнения более сложных аналитических задач. Ibis поддерживает создание подзапросов, что позволяет пользователям извлекать данные на основе результатов предварительных запросов.\n",
        "\n",
        "Рассмотрим пример, в котором мы сначала создаем подзапрос для выбора сотрудников с высокой зарплатой, а затем используем этот подзапрос в основном запросе.\n",
        "\n",
        "\n"
      ],
      "metadata": {
        "id": "c8UVK1mbVpZw"
      }
    },
    {
      "cell_type": "code",
      "source": [
        "# Создаем подзапрос для получения сотрудников с высокой зарплатой\n",
        "high_salary_subquery = employees_table[employees_table.salary > 80000]\n",
        "\n",
        "# Основной запрос, который использует подзапрос\n",
        "query = employees_table[employees_table.id.isin(high_salary_subquery.id)]\n",
        "\n",
        "# Выполняем запрос\n",
        "result = query.execute()\n",
        "print(result)\n",
        "\n",
        "\n"
      ],
      "metadata": {
        "id": "KQV5Wv4LVsuQ",
        "colab": {
          "base_uri": "https://localhost:8080/"
        },
        "outputId": "47a1e3c0-a38f-4b95-d122-fd4069128efa"
      },
      "execution_count": 37,
      "outputs": [
        {
          "output_type": "stream",
          "name": "stdout",
          "text": [
            "   id   name   department   salary\n",
            "0   4  David  Engineering  90000.0\n"
          ]
        }
      ]
    },
    {
      "cell_type": "markdown",
      "source": [
        "#### Объяснение кода\n",
        "В этом примере мы создаем подзапрос `high_salary_subquery`, который выбирает сотрудников с зарплатой выше 80000. Затем основной запрос использует метод `isin()` для фильтрации сотрудников по идентификаторам, которые находятся в подзапросе. В результате мы получаем всех сотрудников с высокой зарплатой.\n",
        "\n",
        "## 3. Анализ временных рядов\n",
        "\n",
        "### 3.1 Работа с датами и временем\n",
        "\n",
        "Анализ временных рядов — это важная область в аналитике данных, которая требует обработки и анализа временных данных. Ibis предоставляет обширные возможности для работы с датами, позволяя пользователям агрегировать данные по временным интервалам и выполнять различные временные операции.\n",
        "\n",
        "В следующем примере мы рассмотрим, как агрегировать данные о продажах по месяцам, чтобы получить общую сумму продаж за каждый месяц.\n",
        "\n",
        "\n"
      ],
      "metadata": {
        "id": "ElRJZTy6Vuk3"
      }
    },
    {
      "cell_type": "code",
      "source": [
        "# Создаем соединение с базой данных\n",
        "\n",
        "connection = sqlite3.connect('example.db')\n",
        "\n",
        "\n",
        "# Создаем курсор для выполнения SQL-запросов\n",
        "\n",
        "cursor = connection.cursor()\n",
        "\n",
        "\n",
        "# Создаем таблицу employees\n",
        "\n",
        "cursor.execute('''\n",
        "CREATE TABLE IF NOT EXISTS sales (\n",
        "    id SERIAL PRIMARY KEY,\n",
        "    sale_date DATE,\n",
        "    amount NUMERIC\n",
        ")\n",
        "''')\n",
        "\n",
        "\n",
        "\n",
        "# Добавляем данные в таблицу `sales`\n",
        "sales_data = [\n",
        "    ('2023-01-15', 1000),\n",
        "    ('2023-01-20', 1500),\n",
        "    ('2023-02-05', 2000),\n",
        "    ('2023-02-10', 2500),\n",
        "    ('2023-03-01', 3000),\n",
        "    ('2023-03-15', 3500)\n",
        "]\n",
        "\n",
        "# Вставляем данные\n",
        "cursor.executemany('INSERT INTO sales (sale_date, amount) VALUES (?, ?)', sales_data)\n",
        "\n",
        "\n",
        "# Сохраняем изменения и закрываем соединение\n",
        "\n",
        "connection.commit()\n",
        "connection.close()\n",
        "\n"
      ],
      "metadata": {
        "id": "uwvYHirnVxZv"
      },
      "execution_count": 38,
      "outputs": []
    },
    {
      "cell_type": "code",
      "source": [
        "# Теперь выполняем ваш запрос\n",
        "sales_table = ibis_connection.table('sales')\n",
        "\n",
        "# Группируем данные по месяцу и считаем сумму продаж\n",
        "monthly_sales = (\n",
        "    sales_table\n",
        "    .group_by([sales_table.sale_date.year().name('year'), sales_table.sale_date.month().name('month')])\n",
        "    .aggregate(total_sales=sales_table.amount.sum())\n",
        ")\n",
        "\n",
        "# Выполняем запрос\n",
        "result = monthly_sales.execute()\n",
        "print(result)\n",
        "\n"
      ],
      "metadata": {
        "id": "69dI8mDDYznl",
        "outputId": "8b69280c-da1f-4119-c239-739519650f96",
        "colab": {
          "base_uri": "https://localhost:8080/"
        }
      },
      "execution_count": 39,
      "outputs": [
        {
          "output_type": "stream",
          "name": "stdout",
          "text": [
            "   year  month total_sales\n",
            "0  2023      1      2.5E+3\n",
            "1  2023      2      4.5E+3\n",
            "2  2023      3      6.5E+3\n"
          ]
        }
      ]
    },
    {
      "cell_type": "markdown",
      "source": [
        "#### Объяснение кода\n",
        "В этом примере мы используем методы `dt.year()` и `dt.month()` для извлечения года и месяца из столбца с временной меткой `sale_date`. Затем с помощью метода `group_by()` мы группируем данные по этим временным меткам и используем `aggregate()` для подсчета общей суммы продаж за каждый месяц.\n",
        "\n",
        "## 4. Обработка отсутствующих данных\n",
        "\n",
        "### 4.1 Работа с пропущенными значениями\n",
        "\n",
        "Пропущенные значения в данных могут существенно повлиять на результаты анализа. Ibis предоставляет пользователям инструменты для обработки отсутствующих данных, включая возможность фильтрации и замены.\n",
        "\n",
        "В следующем примере мы удалим записи, в которых отсутствуют значения зарплаты, чтобы обеспечить корректность анализа.\n",
        "\n",
        "\n"
      ],
      "metadata": {
        "id": "Ylb_SuT1VziP"
      }
    },
    {
      "cell_type": "code",
      "source": [
        "# Фильтруем записи с отсутствующими значениями зарплаты\n",
        "cleaned_data = employees_table[employees_table.salary.notnull()]\n",
        "\n",
        "# Выполняем запрос\n",
        "result = cleaned_data.execute()\n",
        "print(result)\n",
        "\n",
        "\n"
      ],
      "metadata": {
        "id": "BWpoM5DSWLbP",
        "colab": {
          "base_uri": "https://localhost:8080/"
        },
        "outputId": "f4001082-559e-485d-89d6-24d332199a65"
      },
      "execution_count": 40,
      "outputs": [
        {
          "output_type": "stream",
          "name": "stdout",
          "text": [
            "   id     name   department   salary\n",
            "0   1    Alice           HR  70000.0\n",
            "1   2      Bob  Engineering  80000.0\n",
            "2   3  Charlie        Sales  60000.0\n",
            "3   4    David  Engineering  90000.0\n",
            "4   5      Eva           HR  75000.0\n"
          ]
        }
      ]
    },
    {
      "cell_type": "markdown",
      "source": [
        "#### Объяснение кода\n",
        "В этом коде мы используем метод `notnull()` для фильтрации записей, где значение в столбце `salary` отсутствует. Это позволяет нам создать новую таблицу `cleaned_data`, содержащую только те записи, которые имеют действительные значения зарплаты. После этого мы выполняем запрос, получая очищенные данные.\n",
        "\n",
        "## 5. Оптимизация запросов\n",
        "\n",
        "### 5.1 Профилирование запросов\n",
        "\n",
        "Оптимизация производительности запросов является критически важной задачей при работе с большими наборами данных. Ibis предоставляет инструменты для профилирования запросов, позволяя пользователям анализировать время выполнения и выявлять узкие места.\n",
        "\n",
        "В следующем примере мы воспользуемся встроенной функцией Jupyter для измерения времени выполнения запроса.\n",
        "\n",
        "\n"
      ],
      "metadata": {
        "id": "7FqVXYU4WM7K"
      }
    },
    {
      "cell_type": "code",
      "source": [
        "# Анализируем производительность запроса\n",
        "query = employees_table[employees_table.salary > 70000]\n",
        "# Сохраняем время выполнения запроса\n",
        "%timeit query.execute()\n",
        "\n",
        "\n"
      ],
      "metadata": {
        "id": "MmUTY7KGWSL3",
        "colab": {
          "base_uri": "https://localhost:8080/"
        },
        "outputId": "3b781e54-0165-4db3-cc10-7934a45f3480"
      },
      "execution_count": 41,
      "outputs": [
        {
          "output_type": "stream",
          "name": "stdout",
          "text": [
            "9.69 ms ± 3.62 ms per loop (mean ± std. dev. of 7 runs, 100 loops each)\n"
          ]
        }
      ]
    },
    {
      "cell_type": "markdown",
      "source": [
        "#### Объяснение кода\n",
        "В данном примере мы создаем запрос, который выбирает сотрудников с зарплатой выше 70000. С помощью команды Jupyter `%timeit` мы измеряем время выполнения этого запроса. Это помогает определить, насколько эффективно работает запрос, и выявить необходимость в оптимизации.\n",
        "\n",
        "## 6. Интеграция с Pandas\n",
        "\n",
        "### 6.1 Конвертация между Ibis и Pandas\n",
        "\n",
        "Ibis позволяет удобно интегрироваться с библиотекой Pandas, что упрощает процесс анализа данных и визуализации. Пользователи могут легко конвертировать данные между Ibis и Pandas, что позволяет использовать мощные инструменты анализа из обеих библиотек.\n",
        "\n",
        "В следующем примере мы рассмотрим, как конвертировать таблицу Ibis в DataFrame Pandas и обратно.\n",
        "\n",
        "```python\n",
        "# Конвертируем таблицу Ibis в DataFrame Pandas\n",
        "df_result = employees_table.execute()\n",
        "\n",
        "# Преобразуем обратно в Ibis\n",
        "ibis_table_from_df = ibis.pandas.connect({'employees': df_result}).table('employees')\n",
        "\n",
        "```\n",
        "\n"
      ],
      "metadata": {
        "id": "1_k7RJ8pWTwn"
      }
    },
    {
      "cell_type": "markdown",
      "source": [
        "#### Объяснение кода\n",
        "Сначала мы выполняем запрос к таблице Ibis и сохраняем результат в DataFrame Pandas. Затем мы создаем новое подключение Ibis на основе этого DataFrame, что позволяет использовать все преимущества Ibis для дальнейшего анализа.\n",
        "\n",
        "## 7. Группировка и агрегация данных\n",
        "\n",
        "### 7.1 Различные агрегатные функции\n",
        "\n",
        "Агрегация данных является одной из основных операций при анализе больших наборов данных. Ibis поддерживает множество встроенных агрегатных функций, включая вычисление среднего, суммы, минимума и максимума.\n",
        "\n",
        "Рассмотрим пример, где мы вычисляем минимальную, максимальную и среднюю зарплату сотрудников по отделам.\n",
        "\n",
        "\n"
      ],
      "metadata": {
        "id": "1dhIQJzoWZbf"
      }
    },
    {
      "cell_type": "code",
      "source": [
        "# Получаем минимальную, максимальную и среднюю зарплату по отделам\n",
        "salary_stats = (\n",
        "    employees_table.group_by('department')\n",
        "    .aggregate(\n",
        "        min_salary=employees_table.salary.min(),\n",
        "        max_salary=employees_table.salary.max(),\n",
        "        avg_salary=employees_table.salary.mean()\n",
        "    )\n",
        ")\n",
        "\n",
        "# Выполняем запрос\n",
        "result = salary_stats.execute()\n",
        "print(result)\n",
        "\n",
        "\n"
      ],
      "metadata": {
        "id": "wabMAYQqWcAP",
        "colab": {
          "base_uri": "https://localhost:8080/"
        },
        "outputId": "980f5e5a-a761-4812-8570-d30df11e04c3"
      },
      "execution_count": 42,
      "outputs": [
        {
          "output_type": "stream",
          "name": "stdout",
          "text": [
            "    department  min_salary  max_salary  avg_salary\n",
            "0  Engineering     80000.0     90000.0     85000.0\n",
            "1           HR     70000.0     75000.0     72500.0\n",
            "2        Sales     60000.0     60000.0     60000.0\n"
          ]
        }
      ]
    },
    {
      "cell_type": "markdown",
      "source": [
        "#### Объяснение кода\n",
        "В данном коде мы используем метод `group_by()` для группировки данных по отделам. Затем применяем агрегатные функции `min()`, `max()` и `mean()` для вычисления минимальной, максимальной и средней зарплаты в каждом отделе.\n",
        "\n",
        "\n",
        "## Заключение\n",
        "\n",
        "Ibis — мощный инструмент для работы с данными, позволяющий пользователям легко и интуитивно создавать запросы, используя высокоуровневый синтаксис Python. Библиотека поддерживает различные источники данных и предоставляет возможности агрегации, фильтрации и группировки, что делает её полезной для аналитиков и разработчиков.\n",
        "\n"
      ],
      "metadata": {
        "id": "Xdyv72-xWdY3"
      }
    },
    {
      "cell_type": "markdown",
      "source": [
        "\n",
        "### Вопросы для самопроверки\n",
        "\n",
        "1. Что такое Ibis и для чего она используется?\n",
        "\n",
        "2. Как установить библиотеку Ibis с помощью pip?\n",
        "\n",
        "3. Какие основные источники данных поддерживает Ibis?\n",
        "\n",
        "4. Как создать выражение в Ibis для фильтрации данных?\n",
        "\n",
        "5. Что такое Ibis Expressions и как они работают?\n",
        "\n",
        "6. Как подключиться к базе данных SQLite с помощью Ibis?\n",
        "\n",
        "7. Как выполнить агрегацию данных по столбцу в Ibis?\n",
        "\n",
        "8. Что делает метод `compile()` в Ibis?\n",
        "\n",
        "9. Как использовать функции окон в Ibis для анализа данных?\n",
        "\n",
        "10. Какие методы Ibis можно использовать для работы с пропущенными значениями?\n",
        "\n",
        "11. Как выполнять соединение (join) между двумя таблицами в Ibis?\n",
        "\n",
        "12. Что такое подзапросы и как их реализовать в Ibis?\n",
        "\n",
        "13. Как можно работать с временными рядами в Ibis?\n",
        "\n",
        "14. Что такое `execute()` и как он используется в Ibis?\n",
        "\n",
        "15. Как конвертировать таблицу Ibis в DataFrame Pandas?\n",
        "\n",
        "16. Как выполнить группировку данных по нескольким столбцам в Ibis?\n",
        "\n",
        "17. Что такое агрегация и какие функции Ibis поддерживают её?\n",
        "\n",
        "18. Как можно работать с файлами формата CSV в Ibis?\n",
        "\n",
        "19. Как оптимизировать запросы в Ibis и что для этого нужно делать?\n",
        "\n",
        "20. Как сохранить результаты запроса в новый CSV-файл с помощью Ibis?\n",
        "\n"
      ],
      "metadata": {
        "id": "iAikH-NxX6gr"
      }
    },
    {
      "cell_type": "markdown",
      "source": [
        "## Задачи для самостоятеьной работы\n",
        "\n",
        "1. **Установка Ibis**: Установите библиотеку Ibis и проверьте её версию.\n",
        "\n",
        "2. **Создание базы данных**: Создайте SQLite базу данных с таблицей `products`, содержащей поля `id`, `name`, `category`, `price`.\n",
        "\n",
        "3. **Заполнение таблицы**: Добавьте в таблицу `products` как минимум 10 записей с различными категориями и ценами.\n",
        "\n",
        "4. **Подключение к базе данных**: Подключитесь к созданной базе данных с помощью Ibis.\n",
        "\n",
        "5. **Выборка данных**: Напишите запрос, который выберет все продукты с ценой выше 50.\n",
        "\n",
        "6. **Группировка и агрегация**: Создайте запрос, который подсчитает количество продуктов в каждой категории.\n",
        "\n",
        "7. **Фильтрация данных**: Напишите запрос, который выберет все продукты из категории \"Electronics\" с ценой ниже 100.\n",
        "\n",
        "8. **Обновление данных**: Обновите цену для продукта с `id=1` на 75.\n",
        "\n",
        "9. **Удаление данных**: Удалите все продукты из категории \"Furniture\".\n",
        "\n",
        "10. **Подключение к PostgreSQL**: Подключитесь к базе данных PostgreSQL и извлеките данные из таблицы `employees`.\n",
        "\n",
        "11. **Чтение данных из CSV**: Загрузите данные из CSV-файла в Ibis и создайте таблицу.\n",
        "\n",
        "12. **Соединение таблиц**: Выполните соединение между таблицами `employees` и `departments` по полю `department_id`.\n",
        "\n",
        "13. **Подзапросы**: Напишите запрос, который использует подзапрос для фильтрации сотрудников с зарплатой выше средней.\n",
        "\n",
        "14. **Анализ временных рядов**: Создайте таблицу с данными о продажах и выполните группировку по месяцам, подсчитав общую сумму продаж.\n",
        "\n",
        "15. **Работа с пропущенными значениями**: Фильтруйте записи с отсутствующими значениями в столбце `salary`.\n",
        "\n",
        "16. **Оптимизация запроса**: Измерьте время выполнения запроса на выборку всех сотрудников с зарплатой выше 70000.\n",
        "\n",
        "17. **Интеграция с Pandas**: Конвертируйте таблицу Ibis в DataFrame Pandas и выполните базовый анализ данных.\n",
        "\n",
        "18. **Создание сложных запросов**: Создайте запрос, который объединяет данные из нескольких таблиц и выполняет агрегацию.\n",
        "\n",
        "19. **Работа с датами**: Создайте запрос, который выбирает записи за последний месяц.\n",
        "\n",
        "20. **Анализ категорий**: Подсчитайте среднюю цену продуктов по категориям.\n",
        "\n",
        "21. **Функции окон**: Используйте функции окон для расчета рангов продуктов по цене.\n",
        "\n",
        "22. **Фильтрация по нескольким условиям**: Напишите запрос, который выбирает продукты, удовлетворяющие нескольким условиям (например, цена и категория).\n",
        "\n",
        "23. **Сохранение результатов**: Сохраните результаты запроса в новый CSV-файл.\n",
        "\n",
        "24. **Создание индексов**: Создайте индекс для столбца `category` в таблице `products`.\n",
        "\n",
        "25. **Работа с Parquet**: Загрузите данные из Parquet-файла и выполните базовый анализ.\n",
        "\n",
        "26. **Использование агрегатных функций**: Используйте функции `min()`, `max()`, и `mean()` для анализа зарплат сотрудников.\n",
        "\n",
        "27. **Создание представлений**: Создайте представление для часто используемого запроса.\n",
        "\n",
        "28. **Форматирование данных**: Преобразуйте значения в столбце `price` в формат с двумя знаками после запятой.\n",
        "\n",
        "29. **Визуализация данных**: Используйте Pandas для визуализации результатов запросов с помощью Matplotlib или Seaborn.\n",
        "\n",
        "30. **Документация**: Напишите краткое руководство по использованию Ibis с примерами кода.\n"
      ],
      "metadata": {
        "id": "QTKfEEHLX9mF"
      }
    },
    {
      "cell_type": "code",
      "source": [],
      "metadata": {
        "id": "oNXoLsVoVK0E"
      },
      "execution_count": 42,
      "outputs": []
    }
  ]
}