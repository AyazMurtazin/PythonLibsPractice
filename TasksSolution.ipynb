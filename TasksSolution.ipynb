{
  "nbformat": 4,
  "nbformat_minor": 0,
  "metadata": {
    "colab": {
      "provenance": [],
      "include_colab_link": true
    },
    "kernelspec": {
      "name": "python3",
      "display_name": "Python 3"
    },
    "language_info": {
      "name": "python"
    }
  },
  "cells": [
    {
      "cell_type": "markdown",
      "metadata": {
        "id": "view-in-github",
        "colab_type": "text"
      },
      "source": [
        "<a href=\"https://colab.research.google.com/github/AyazMurtazin/PythonLibsPractice/blob/main/TasksSolution.ipynb\" target=\"_parent\"><img src=\"https://colab.research.google.com/assets/colab-badge.svg\" alt=\"Open In Colab\"/></a>"
      ]
    },
    {
      "cell_type": "markdown",
      "source": [
        "## **Задачи**\n"
      ],
      "metadata": {
        "id": "BPpV-byQNtbv"
      }
    },
    {
      "cell_type": "markdown",
      "source": [
        "1. Выберите набор данных с платформ **Kaggle** или **Huggingface**. Укажите название или ссылку на выбранный датасет в отдельном листе документа вместе с перечнем библиотек, которые вы планируете использовать для анализа.  \n"
      ],
      "metadata": {
        "id": "qxsHj_NUhMGn"
      }
    },
    {
      "cell_type": "markdown",
      "source": [
        "2. Выполните предобработку данных, используя библиотеки Python, такие как **Polars**, **PySpark**, **Pandas**, **NumPy**, **Matplotlib**, и другие. Обратите внимание, что для повышения производительности рекомендуется отдавать предпочтение библиотеке **Polars** вместо **Pandas**.  \n"
      ],
      "metadata": {
        "id": "ZOsARmWMhUTV"
      }
    },
    {
      "cell_type": "markdown",
      "source": [
        "\n",
        "3. Следуйте алгоритмам обработки, описанным в разделе ниже, для подготовки данных. Убедитесь, что обработка охватывает этапы:  \n"
      ],
      "metadata": {
        "id": "n-kS3KkBhXHV"
      }
    },
    {
      "cell_type": "markdown",
      "source": [
        "\n",
        "## **1. Импорт и первичная обработка данных**\n"
      ],
      "metadata": {
        "id": "5ggybuSzhYyl"
      }
    },
    {
      "cell_type": "markdown",
      "source": [
        "\n",
        "### **1.1. Загрузка данных**"
      ],
      "metadata": {
        "id": "yRwl3JtxhZsN"
      }
    },
    {
      "cell_type": "markdown",
      "source": [
        "\n",
        "1. Загрузка данных из различных источников: файлов (CSV, Excel), баз данных или API."
      ],
      "metadata": {
        "id": "CoxOPk5ShbAC"
      }
    },
    {
      "cell_type": "markdown",
      "source": [
        "\n",
        "2. Приведение структуры данных:\n",
        "   - Проверка корректности формата временных меток.\n",
        "   - Приведение временных меток к типу `datetime` и сортировка данных по времени (для временных рядов).\n"
      ],
      "metadata": {
        "id": "LQf2G6Evheb-"
      }
    },
    {
      "cell_type": "markdown",
      "source": [
        "\n",
        "\n",
        "\n",
        "### **1.2. Первичный осмотр данных**\n"
      ],
      "metadata": {
        "id": "MQ88YFVVhffF"
      }
    },
    {
      "cell_type": "markdown",
      "source": [
        "1. Получение базовой информации о данных:\n",
        "   - Размерность набора данных и типы столбцов (метод `info()` или его аналог в Polars).\n",
        "   - Статистическое описание числовых признаков (метод `describe()` или аналог).\n"
      ],
      "metadata": {
        "id": "5GQTaswChgr9"
      }
    },
    {
      "cell_type": "markdown",
      "source": [
        "2. Выявление пропусков и выбросов:\n",
        "   - Подсчет пропущенных значений.\n",
        "   - Построение гистограмм и боксплотов для анализа распределения.\n",
        "\n",
        "\n",
        "\n"
      ],
      "metadata": {
        "id": "jTQF5SRuhhwN"
      }
    },
    {
      "cell_type": "markdown",
      "source": [
        "## **2. Обработка пропущенных данных**\n",
        "\n"
      ],
      "metadata": {
        "id": "i1Ot0_5Ghi5F"
      }
    },
    {
      "cell_type": "markdown",
      "source": [
        "### **2.1. Анализ пропусков**\n"
      ],
      "metadata": {
        "id": "lFaoLt20hjtu"
      }
    },
    {
      "cell_type": "markdown",
      "source": [
        "1. Подсчет доли пропущенных значений в каждом столбце.\n"
      ],
      "metadata": {
        "id": "jFQ4kzdRhkh9"
      }
    },
    {
      "cell_type": "markdown",
      "source": [
        "2. Определение причин пропусков (случайные, системные ошибки, временные зависимости).\n",
        "\n"
      ],
      "metadata": {
        "id": "wNZQP0hJhldF"
      }
    },
    {
      "cell_type": "markdown",
      "source": [
        "### **2.2. Методы обработки**\n"
      ],
      "metadata": {
        "id": "Gs3heAM-hoFl"
      }
    },
    {
      "cell_type": "markdown",
      "source": [
        "1. **Для категориальных данных**:\n",
        "   - Замена на моду или добавление уровня \"Unknown\".\n"
      ],
      "metadata": {
        "id": "HdUZiy2pho3l"
      }
    },
    {
      "cell_type": "markdown",
      "source": [
        "2. **Для числовых данных**:\n",
        "   - Замена на медиану, среднее или интерполяция.\n",
        "   - Удаление строк/столбцов, если доля пропусков превышает 30%.\n",
        "\n",
        "\n",
        "\n"
      ],
      "metadata": {
        "id": "mF5xVFvyhpq1"
      }
    },
    {
      "cell_type": "markdown",
      "source": [
        "## **3. Обработка выбросов**\n",
        "\n"
      ],
      "metadata": {
        "id": "QBpczDBRhqqt"
      }
    },
    {
      "cell_type": "markdown",
      "source": [
        "### **3.1. Выявление выбросов**"
      ],
      "metadata": {
        "id": "zsyrfdl8hriF"
      }
    },
    {
      "cell_type": "markdown",
      "source": [
        "1. **Метод IQR**:\n",
        "   - Вычисление границ выбросов:  \n",
        "     $Q1 - 1.5 \\times IQR$ и $Q3 + 1.5 \\times IQR$.\n"
      ],
      "metadata": {
        "id": "S4K6Z3M9hsYN"
      }
    },
    {
      "cell_type": "markdown",
      "source": [
        "2. **Метод трех сигм**:\n",
        "   - Границы: $\\mu - 3\\sigma$ и $\\mu + 3\\sigma$.\n"
      ],
      "metadata": {
        "id": "hsecVatRhukV"
      }
    },
    {
      "cell_type": "markdown",
      "source": [
        "3. Использование методов машинного обучения (например, Isolation Forest).\n",
        "\n"
      ],
      "metadata": {
        "id": "zNISURYGhvU0"
      }
    },
    {
      "cell_type": "markdown",
      "source": [
        "### **3.2. Обработка выбросов**\n"
      ],
      "metadata": {
        "id": "90qjDZrthv_l"
      }
    },
    {
      "cell_type": "markdown",
      "source": [
        "1. Замена выбросов на медиану или ближайшее допустимое значение.\n"
      ],
      "metadata": {
        "id": "dgi8EWHrhw09"
      }
    },
    {
      "cell_type": "markdown",
      "source": [
        "2. Удаление выбросов, если их доля мала (< 5%).\n",
        "\n",
        "\n",
        "\n"
      ],
      "metadata": {
        "id": "izlT_xwZhxc1"
      }
    },
    {
      "cell_type": "markdown",
      "source": [
        "## **4. Проверка стационарности и трендов**\n",
        "\n"
      ],
      "metadata": {
        "id": "sO05Si2XhyiF"
      }
    },
    {
      "cell_type": "markdown",
      "source": [
        "### **4.1. Гипотезы**\n",
        "- $H₀$: Временной ряд стационарен.  \n",
        "- $H₁$: Временной ряд нестационарен."
      ],
      "metadata": {
        "id": "3S9kgpU0hzfd"
      }
    },
    {
      "cell_type": "markdown",
      "source": [
        "### **4.2. Методы проверки**\n"
      ],
      "metadata": {
        "id": "N5v_1dhBh0RE"
      }
    },
    {
      "cell_type": "markdown",
      "source": [
        "1. **ADF (Augmented Dickey-Fuller):**  \n",
        "   $p\\text{-value} < 0.05$ — стационарность подтверждается.\n"
      ],
      "metadata": {
        "id": "jvvNhgZih2mW"
      }
    },
    {
      "cell_type": "markdown",
      "source": [
        "2. **KPSS:**  \n",
        "   $p\\text{-value} < 0.05$ — ряд нестационарен.\n",
        "\n"
      ],
      "metadata": {
        "id": "gThjQsJnh3Tt"
      }
    },
    {
      "cell_type": "markdown",
      "source": [
        "### **4.3. Обработка нестационарности**\n"
      ],
      "metadata": {
        "id": "HuUlWjE2h4EE"
      }
    },
    {
      "cell_type": "markdown",
      "source": [
        "1. Дифференцирование: удаление тренда с помощью разности первого порядка.\n"
      ],
      "metadata": {
        "id": "GfdaXyPbh40M"
      }
    },
    {
      "cell_type": "markdown",
      "source": [
        "2. Декомпозиция на тренд, сезонность и шум.\n",
        "\n",
        "\n",
        "\n"
      ],
      "metadata": {
        "id": "kGS0JnHVh5al"
      }
    },
    {
      "cell_type": "markdown",
      "source": [
        "## **5. Анализ взаимосвязей и мультиколлинеарности**\n",
        "\n"
      ],
      "metadata": {
        "id": "ZHgj3yMth6Es"
      }
    },
    {
      "cell_type": "markdown",
      "source": [
        "### **5.1. Мультиколлинеарность**\n"
      ],
      "metadata": {
        "id": "rFYSepRih61E"
      }
    },
    {
      "cell_type": "markdown",
      "source": [
        "1. Вычисление **VIF** (Variance Inflation Factor):\n",
        "   - Признаки с $VIF > 5$ требуют исключения или трансформации.\n"
      ],
      "metadata": {
        "id": "nGzG2n3Ph7q0"
      }
    },
    {
      "cell_type": "markdown",
      "source": [
        "2. Применение PCA для уменьшения размерности.\n",
        "\n"
      ],
      "metadata": {
        "id": "BygWpU_Zh8VU"
      }
    },
    {
      "cell_type": "markdown",
      "source": [
        "### **5.2. Корреляционный анализ**\n"
      ],
      "metadata": {
        "id": "ak0XeCJOh8_F"
      }
    },
    {
      "cell_type": "markdown",
      "source": [
        "1. Построение корреляционной матрицы.\n"
      ],
      "metadata": {
        "id": "PXBXlIcch9lM"
      }
    },
    {
      "cell_type": "markdown",
      "source": [
        "2. Визуализация матрицы (например, с использованием heatmap).\n",
        "\n",
        "\n",
        "\n"
      ],
      "metadata": {
        "id": "QJ3u9zBSh-IM"
      }
    },
    {
      "cell_type": "markdown",
      "source": [
        "## **6. Преобразование данных**\n",
        "\n"
      ],
      "metadata": {
        "id": "coMm-d-rh-3c"
      }
    },
    {
      "cell_type": "markdown",
      "source": [
        "### **6.1. Преобразование числовых данных**\n"
      ],
      "metadata": {
        "id": "IvGb2AAdh_ok"
      }
    },
    {
      "cell_type": "markdown",
      "source": [
        "1. Нормализация (Min-Max Scaling) для методов, чувствительных к масштабу.\n",
        "\n"
      ],
      "metadata": {
        "id": "2OZONmMsiAM8"
      }
    },
    {
      "cell_type": "markdown",
      "source": [
        "2. Стандартизация (Standard Scaling) для методов, требующих нормального распределения.\n",
        "\n"
      ],
      "metadata": {
        "id": "nCAfyfMQiBZ9"
      }
    },
    {
      "cell_type": "markdown",
      "source": [
        "### **6.2. Обработка категорий**\n"
      ],
      "metadata": {
        "id": "reIPLZCfiCLU"
      }
    },
    {
      "cell_type": "markdown",
      "source": [
        "1. Кодирование категориальных признаков:\n",
        "   - One-Hot Encoding — для независимых категорий.\n",
        "   - Label Encoding — для упорядоченных категорий.\n"
      ],
      "metadata": {
        "id": "uqQM58xjiCy1"
      }
    },
    {
      "cell_type": "markdown",
      "source": [
        "2. Группировка редких категорий в общий уровень (\"Other\").\n",
        "\n",
        "\n",
        "\n"
      ],
      "metadata": {
        "id": "y06o7kctiDid"
      }
    },
    {
      "cell_type": "markdown",
      "source": [
        "## **7. Проверка распределений**\n",
        "\n"
      ],
      "metadata": {
        "id": "ZqsVP23BiEOd"
      }
    },
    {
      "cell_type": "markdown",
      "source": [
        "### **7.1. Нормальность**\n"
      ],
      "metadata": {
        "id": "7rGnB-51iE4F"
      }
    },
    {
      "cell_type": "markdown",
      "source": [
        "1. Тесты (Шапиро-Уилк или Колмогоров-Смирнов):  \n",
        "   $p\\text{-value} < 0.05$ указывает на отклонение от нормального распределения.\n"
      ],
      "metadata": {
        "id": "nRCMoM22iFhl"
      }
    },
    {
      "cell_type": "markdown",
      "source": [
        "2. Q-Q графики для визуального анализа.\n",
        "\n"
      ],
      "metadata": {
        "id": "W8UEJ8WOiGJ1"
      }
    },
    {
      "cell_type": "markdown",
      "source": [
        "### **7.2. Трансформация признаков**\n"
      ],
      "metadata": {
        "id": "gNViO6T4iGxV"
      }
    },
    {
      "cell_type": "markdown",
      "source": [
        "1. Логарифмическое преобразование.\n"
      ],
      "metadata": {
        "id": "mWm2-ccriHX1"
      }
    },
    {
      "cell_type": "markdown",
      "source": [
        "2. Преобразование Бокса-Кокса.\n",
        "\n",
        "\n",
        "\n"
      ],
      "metadata": {
        "id": "JsGWVdhCiIEF"
      }
    },
    {
      "cell_type": "markdown",
      "source": [
        "## **8. Проверка гипотез**\n",
        "\n"
      ],
      "metadata": {
        "id": "5l4E3AhGiIvs"
      }
    },
    {
      "cell_type": "markdown",
      "source": [
        "### **8.1. Значимость признаков**\n"
      ],
      "metadata": {
        "id": "Jr52By-piJWl"
      }
    },
    {
      "cell_type": "markdown",
      "source": [
        "1. **t-тест** — для сравнения двух групп.\n"
      ],
      "metadata": {
        "id": "4Wmzm1-5iMhl"
      }
    },
    {
      "cell_type": "markdown",
      "source": [
        "2. **ANOVA** — для анализа различий между несколькими группами.\n",
        "\n"
      ],
      "metadata": {
        "id": "PL4NuffWiNGF"
      }
    },
    {
      "cell_type": "markdown",
      "source": [
        "### **8.2. Анализ дисперсий**\n"
      ],
      "metadata": {
        "id": "XWXXHxhYiNuV"
      }
    },
    {
      "cell_type": "markdown",
      "source": [
        "1. Тест Левене:\n",
        "   $p\\text{-value} < 0.05$ — различия дисперсий значимы.\n",
        "\n",
        "\n",
        "\n"
      ],
      "metadata": {
        "id": "3letUGBQiOS1"
      }
    },
    {
      "cell_type": "markdown",
      "source": [
        "## **9. Time Series Cross-Validation**\n"
      ],
      "metadata": {
        "id": "FZSIxUkQiPEF"
      }
    },
    {
      "cell_type": "markdown",
      "source": [
        "1. Учет временной последовательности:\n",
        "   - Разделение данных с использованием метода скользящего окна.\n"
      ],
      "metadata": {
        "id": "SaHuJIQWiPpt"
      }
    },
    {
      "cell_type": "markdown",
      "source": [
        "2. Оценка устойчивости модели на временных подвыборках.\n",
        "\n",
        "\n",
        "\n"
      ],
      "metadata": {
        "id": "0BekSrABiQUW"
      }
    },
    {
      "cell_type": "markdown",
      "source": [
        "## **10. Генерация новых признаков**\n",
        "\n"
      ],
      "metadata": {
        "id": "wr6vTQNxiRBF"
      }
    },
    {
      "cell_type": "markdown",
      "source": [
        "### **10.1. Инженерия признаков**\n"
      ],
      "metadata": {
        "id": "PRDg7N7QiRnt"
      }
    },
    {
      "cell_type": "markdown",
      "source": [
        "1. Лаговые признаки (lag features).\n"
      ],
      "metadata": {
        "id": "TtK_Gus_iSK9"
      }
    },
    {
      "cell_type": "markdown",
      "source": [
        "2. Сезонные признаки (месяц, день недели).\n"
      ],
      "metadata": {
        "id": "vwLYHRIDiSul"
      }
    },
    {
      "cell_type": "markdown",
      "source": [
        "3. Агрегация (например, средние значения за неделю).\n",
        "\n"
      ],
      "metadata": {
        "id": "FaJZkLcriTSN"
      }
    },
    {
      "cell_type": "markdown",
      "source": [
        "### **10.2. Удаление избыточных признаков**\n"
      ],
      "metadata": {
        "id": "bbQ80BBniT_F"
      }
    },
    {
      "cell_type": "markdown",
      "source": [
        "1. Использование методов отбора признаков (Lasso, RFE).\n"
      ],
      "metadata": {
        "id": "ltWLYrlniUf1"
      }
    },
    {
      "cell_type": "code",
      "source": [],
      "metadata": {
        "id": "mjpD6_DHiVbV"
      },
      "execution_count": null,
      "outputs": []
    }
  ]
}