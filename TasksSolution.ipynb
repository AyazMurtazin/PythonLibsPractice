{
  "nbformat": 4,
  "nbformat_minor": 0,
  "metadata": {
    "colab": {
      "provenance": [],
      "include_colab_link": true
    },
    "kernelspec": {
      "name": "python3",
      "display_name": "Python 3"
    },
    "language_info": {
      "name": "python"
    }
  },
  "cells": [
    {
      "cell_type": "markdown",
      "metadata": {
        "id": "view-in-github",
        "colab_type": "text"
      },
      "source": [
        "<a href=\"https://colab.research.google.com/github/AyazMurtazin/PythonLibsPractice/blob/main/TasksSolution.ipynb\" target=\"_parent\"><img src=\"https://colab.research.google.com/assets/colab-badge.svg\" alt=\"Open In Colab\"/></a>"
      ]
    },
    {
      "cell_type": "markdown",
      "source": [
        "## **Задачи**\n"
      ],
      "metadata": {
        "id": "BPpV-byQNtbv"
      }
    },
    {
      "cell_type": "markdown",
      "source": [
        "1. Выберите набор данных с платформ **Kaggle** или **Huggingface**. Укажите название или ссылку на выбранный датасет в отдельном листе документа вместе с перечнем библиотек, которые вы планируете использовать для анализа.  \n"
      ],
      "metadata": {
        "id": "qxsHj_NUhMGn"
      }
    },
    {
      "cell_type": "markdown",
      "source": [
        "Если вам нужен набор данных, содержащий временной ряд, вот пример подходящего датасета:\n",
        "\n",
        "### Набор данных:\n",
        "**Название:** Daily Climate Time Series Data  \n",
        "**Платформа:** Kaggle  \n",
        "**Ссылка:** [Daily Climate Time Series Data](https://www.kaggle.com/datasets/sumanthvrao/daily-climate-time-series-data)\n",
        "\n",
        "### Описание:\n",
        "Этот датасет содержит ежедневные данные о климате, включая температуру, влажность, скорость ветра и давление. Данные охватывают временной период и могут быть использованы для анализа временных рядов.\n",
        "\n",
        "### Библиотеки для анализа:\n",
        "1. **Pandas** — для работы с временными рядами и их обработки.\n",
        "2. **NumPy** — для численных операций.\n",
        "3. **Matplotlib** — для визуализации временных рядов.\n",
        "4. **Seaborn** — для более сложной визуализации.\n",
        "5. **Statsmodels** — для анализа временных рядов (например, декомпозиция, автокорреляция).\n",
        "6. **Scikit-learn** — для предобработки данных и построения моделей машинного обучения.\n",
        "7. **Prophet** (от Facebook) — для прогнозирования временных рядов.\n",
        "8. **TensorFlow/PyTorch** — для экспериментов с нейронными сетями (например, LSTM для временных рядов).\n",
        "9. **XGBoost/LightGBM** — для использования градиентного бустинга в задачах прогнозирования.\n",
        "\n",
        "Этот набор данных и библиотеки позволят вам провести глубокий анализ временных рядов и построить модели для прогнозирования."
      ],
      "metadata": {
        "id": "oPsgEOBmkTWS"
      }
    },
    {
      "cell_type": "markdown",
      "source": [
        "2. Выполните предобработку данных, используя библиотеки Python, такие как **Polars**, **PySpark**, **Pandas**, **NumPy**, **Matplotlib**, и другие. Обратите внимание, что для повышения производительности рекомендуется отдавать предпочтение библиотеке **Polars** вместо **Pandas**.  \n"
      ],
      "metadata": {
        "id": "ZOsARmWMhUTV"
      }
    },
    {
      "cell_type": "code",
      "source": [],
      "metadata": {
        "id": "mL6MF0cskTz9"
      },
      "execution_count": null,
      "outputs": []
    },
    {
      "cell_type": "markdown",
      "source": [
        "\n",
        "3. Следуйте алгоритмам обработки, описанным в разделе ниже, для подготовки данных. Убедитесь, что обработка охватывает этапы:  \n"
      ],
      "metadata": {
        "id": "n-kS3KkBhXHV"
      }
    },
    {
      "cell_type": "code",
      "source": [],
      "metadata": {
        "id": "3UCrStUmkUQt"
      },
      "execution_count": null,
      "outputs": []
    },
    {
      "cell_type": "markdown",
      "source": [
        "\n",
        "## **1. Импорт и первичная обработка данных**\n"
      ],
      "metadata": {
        "id": "5ggybuSzhYyl"
      }
    },
    {
      "cell_type": "markdown",
      "source": [
        "\n",
        "### **1.1. Загрузка данных**"
      ],
      "metadata": {
        "id": "yRwl3JtxhZsN"
      }
    },
    {
      "cell_type": "markdown",
      "source": [
        "\n",
        "1. Загрузка данных из различных источников: файлов (CSV, Excel), баз данных или API."
      ],
      "metadata": {
        "id": "CoxOPk5ShbAC"
      }
    },
    {
      "cell_type": "code",
      "source": [
        "!pip install kaggle"
      ],
      "metadata": {
        "colab": {
          "base_uri": "https://localhost:8080/"
        },
        "id": "iepRTscEoxMs",
        "outputId": "ef8332e8-1351-48a3-ccc2-abf61f17503d"
      },
      "execution_count": 3,
      "outputs": [
        {
          "output_type": "stream",
          "name": "stdout",
          "text": [
            "Requirement already satisfied: kaggle in /usr/local/lib/python3.11/dist-packages (1.6.17)\n",
            "Requirement already satisfied: six>=1.10 in /usr/local/lib/python3.11/dist-packages (from kaggle) (1.17.0)\n",
            "Requirement already satisfied: certifi>=2023.7.22 in /usr/local/lib/python3.11/dist-packages (from kaggle) (2025.1.31)\n",
            "Requirement already satisfied: python-dateutil in /usr/local/lib/python3.11/dist-packages (from kaggle) (2.8.2)\n",
            "Requirement already satisfied: requests in /usr/local/lib/python3.11/dist-packages (from kaggle) (2.32.3)\n",
            "Requirement already satisfied: tqdm in /usr/local/lib/python3.11/dist-packages (from kaggle) (4.67.1)\n",
            "Requirement already satisfied: python-slugify in /usr/local/lib/python3.11/dist-packages (from kaggle) (8.0.4)\n",
            "Requirement already satisfied: urllib3 in /usr/local/lib/python3.11/dist-packages (from kaggle) (2.3.0)\n",
            "Requirement already satisfied: bleach in /usr/local/lib/python3.11/dist-packages (from kaggle) (6.2.0)\n",
            "Requirement already satisfied: webencodings in /usr/local/lib/python3.11/dist-packages (from bleach->kaggle) (0.5.1)\n",
            "Requirement already satisfied: text-unidecode>=1.3 in /usr/local/lib/python3.11/dist-packages (from python-slugify->kaggle) (1.3)\n",
            "Requirement already satisfied: charset-normalizer<4,>=2 in /usr/local/lib/python3.11/dist-packages (from requests->kaggle) (3.4.1)\n",
            "Requirement already satisfied: idna<4,>=2.5 in /usr/local/lib/python3.11/dist-packages (from requests->kaggle) (3.10)\n"
          ]
        }
      ]
    },
    {
      "cell_type": "code",
      "source": [
        "import os\n",
        "os.environ['KAGGLE_USERNAME'] = \"uname\" # username from the json file\n",
        "os.environ['KAGGLE_KEY'] = \"kaggle_key\" # key from the json file"
      ],
      "metadata": {
        "id": "YafyBG-1pL7t"
      },
      "execution_count": 5,
      "outputs": []
    },
    {
      "cell_type": "code",
      "source": [
        "import kaggle\n",
        "\n",
        "# Authenticate using your Kaggle API credentials\n",
        "kaggle.api.authenticate()\n",
        "\n",
        "# Download the dataset\n",
        "dataset_name = 'sumanthvrao/daily-climate-time-series-data'\n",
        "download_path = './daily_climate_data'  # Path where you want to save the dataset\n",
        "\n",
        "kaggle.api.dataset_download_files(dataset_name, path=download_path, unzip=True)\n",
        "\n",
        "print(f\"Dataset downloaded and extracted to {download_path}\")"
      ],
      "metadata": {
        "colab": {
          "base_uri": "https://localhost:8080/"
        },
        "id": "afig4p4_kVL1",
        "outputId": "b6272d21-3675-4c1f-a551-b5d8cbea5d60"
      },
      "execution_count": 6,
      "outputs": [
        {
          "output_type": "stream",
          "name": "stdout",
          "text": [
            "Dataset URL: https://www.kaggle.com/datasets/sumanthvrao/daily-climate-time-series-data\n",
            "Dataset downloaded and extracted to ./daily_climate_data\n"
          ]
        }
      ]
    },
    {
      "cell_type": "code",
      "source": [
        "import pandas as pd\n",
        "\n",
        "# Load the dataset\n",
        "data = pd.read_csv('./daily_climate_data/DailyDelhiClimateTrain.csv')\n",
        "\n",
        "# Check the data\n",
        "print(data.head())"
      ],
      "metadata": {
        "colab": {
          "base_uri": "https://localhost:8080/"
        },
        "id": "NAr1nsKZqtK1",
        "outputId": "950c2942-7239-499e-c521-2da2886c575f"
      },
      "execution_count": 8,
      "outputs": [
        {
          "output_type": "stream",
          "name": "stdout",
          "text": [
            "         date   meantemp   humidity  wind_speed  meanpressure\n",
            "0  2013-01-01  10.000000  84.500000    0.000000   1015.666667\n",
            "1  2013-01-02   7.400000  92.000000    2.980000   1017.800000\n",
            "2  2013-01-03   7.166667  87.000000    4.633333   1018.666667\n",
            "3  2013-01-04   8.666667  71.333333    1.233333   1017.166667\n",
            "4  2013-01-05   6.000000  86.833333    3.700000   1016.500000\n"
          ]
        }
      ]
    },
    {
      "cell_type": "markdown",
      "source": [
        "\n",
        "2. Приведение структуры данных:\n",
        "   - Проверка корректности формата временных меток.\n",
        "   - Приведение временных меток к типу `datetime` и сортировка данных по времени (для временных рядов).\n"
      ],
      "metadata": {
        "id": "LQf2G6Evheb-"
      }
    },
    {
      "cell_type": "code",
      "source": [],
      "metadata": {
        "id": "GsoHmvwPkWMG"
      },
      "execution_count": null,
      "outputs": []
    },
    {
      "cell_type": "markdown",
      "source": [
        "\n",
        "\n",
        "\n",
        "### **1.2. Первичный осмотр данных**\n"
      ],
      "metadata": {
        "id": "MQ88YFVVhffF"
      }
    },
    {
      "cell_type": "markdown",
      "source": [
        "1. Получение базовой информации о данных:\n",
        "   - Размерность набора данных и типы столбцов (метод `info()` или его аналог в Polars).\n",
        "   - Статистическое описание числовых признаков (метод `describe()` или аналог).\n"
      ],
      "metadata": {
        "id": "5GQTaswChgr9"
      }
    },
    {
      "cell_type": "code",
      "source": [
        "print(data.info())"
      ],
      "metadata": {
        "colab": {
          "base_uri": "https://localhost:8080/"
        },
        "id": "9YLLk2ugkWmM",
        "outputId": "a820054d-0921-41bf-c7a4-c89d7773544d"
      },
      "execution_count": 9,
      "outputs": [
        {
          "output_type": "stream",
          "name": "stdout",
          "text": [
            "<class 'pandas.core.frame.DataFrame'>\n",
            "RangeIndex: 1462 entries, 0 to 1461\n",
            "Data columns (total 5 columns):\n",
            " #   Column        Non-Null Count  Dtype  \n",
            "---  ------        --------------  -----  \n",
            " 0   date          1462 non-null   object \n",
            " 1   meantemp      1462 non-null   float64\n",
            " 2   humidity      1462 non-null   float64\n",
            " 3   wind_speed    1462 non-null   float64\n",
            " 4   meanpressure  1462 non-null   float64\n",
            "dtypes: float64(4), object(1)\n",
            "memory usage: 57.2+ KB\n",
            "None\n"
          ]
        }
      ]
    },
    {
      "cell_type": "code",
      "source": [
        "print(data.describe())"
      ],
      "metadata": {
        "colab": {
          "base_uri": "https://localhost:8080/"
        },
        "id": "UzFzkTVIrGa8",
        "outputId": "a91943a6-51a7-491f-f0d9-ffa54fca996e"
      },
      "execution_count": 10,
      "outputs": [
        {
          "output_type": "stream",
          "name": "stdout",
          "text": [
            "          meantemp     humidity   wind_speed  meanpressure\n",
            "count  1462.000000  1462.000000  1462.000000   1462.000000\n",
            "mean     25.495521    60.771702     6.802209   1011.104548\n",
            "std       7.348103    16.769652     4.561602    180.231668\n",
            "min       6.000000    13.428571     0.000000     -3.041667\n",
            "25%      18.857143    50.375000     3.475000   1001.580357\n",
            "50%      27.714286    62.625000     6.221667   1008.563492\n",
            "75%      31.305804    72.218750     9.238235   1014.944901\n",
            "max      38.714286   100.000000    42.220000   7679.333333\n"
          ]
        }
      ]
    },
    {
      "cell_type": "markdown",
      "source": [
        "2. Выявление пропусков и выбросов:\n",
        "   - Подсчет пропущенных значений.\n",
        "   - Построение гистограмм и боксплотов для анализа распределения.\n",
        "\n",
        "\n",
        "\n"
      ],
      "metadata": {
        "id": "jTQF5SRuhhwN"
      }
    },
    {
      "cell_type": "code",
      "source": [
        "# Подсчет пропущенных значений\n",
        "missing_values = data.isnull().sum()\n",
        "print(\"Пропущенные значения:\")\n",
        "print(missing_values)"
      ],
      "metadata": {
        "colab": {
          "base_uri": "https://localhost:8080/"
        },
        "id": "ymX0CXO-rFAM",
        "outputId": "466c3857-c9f6-4fde-8028-1a37980ee47d"
      },
      "execution_count": 11,
      "outputs": [
        {
          "output_type": "stream",
          "name": "stdout",
          "text": [
            "Пропущенные значения:\n",
            "date            0\n",
            "meantemp        0\n",
            "humidity        0\n",
            "wind_speed      0\n",
            "meanpressure    0\n",
            "dtype: int64\n"
          ]
        }
      ]
    },
    {
      "cell_type": "code",
      "source": [
        "import matplotlib.pyplot as plt\n",
        "\n",
        "# Гистограммы для числовых столбцов\n",
        "data.hist(bins=30, figsize=(15, 10))\n",
        "plt.suptitle('Гистограммы распределения данных')\n",
        "plt.show()"
      ],
      "metadata": {
        "colab": {
          "base_uri": "https://localhost:8080/",
          "height": 930
        },
        "id": "WYqW4VGWrZUD",
        "outputId": "03293646-c195-4e2a-9d31-c5c114bc1919"
      },
      "execution_count": 12,
      "outputs": [
        {
          "output_type": "display_data",
          "data": {
            "text/plain": [
              "<Figure size 1500x1000 with 4 Axes>"
            ],
            "image/png": "[encoded data removed]"
          },
          "metadata": {}
        }
      ]
    },
    {
      "cell_type": "code",
      "source": [
        "import seaborn as sns\n",
        "\n",
        "# Боксплоты для числовых столбцов\n",
        "plt.figure(figsize=(12, 8))\n",
        "for i, column in enumerate(data.select_dtypes(include=['float64', 'int64']).columns, 1):\n",
        "    plt.subplot(2, 2, i)\n",
        "    sns.boxplot(y=data[column])\n",
        "    plt.title(column)\n",
        "plt.suptitle('Боксплоты для анализа выбросов')\n",
        "plt.tight_layout()\n",
        "plt.show()"
      ],
      "metadata": {
        "colab": {
          "base_uri": "https://localhost:8080/",
          "height": 805
        },
        "id": "QPFcIizorhMk",
        "outputId": "10d0f7ac-efc1-4475-cfcf-c443c71212ca"
      },
      "execution_count": 13,
      "outputs": [
        {
          "output_type": "display_data",
          "data": {
            "text/plain": [
              "<Figure size 1200x800 with 4 Axes>"
            ],
            "image/png": "[encoded data removed]"
          },
          "metadata": {}
        }
      ]
    },
    {
      "cell_type": "markdown",
      "source": [
        "## **2. Обработка пропущенных данных**\n",
        "\n"
      ],
      "metadata": {
        "id": "i1Ot0_5Ghi5F"
      }
    },
    {
      "cell_type": "markdown",
      "source": [
        "### **2.1. Анализ пропусков**\n"
      ],
      "metadata": {
        "id": "lFaoLt20hjtu"
      }
    },
    {
      "cell_type": "markdown",
      "source": [
        "1. Подсчет доли пропущенных значений в каждом столбце.\n"
      ],
      "metadata": {
        "id": "jFQ4kzdRhkh9"
      }
    },
    {
      "cell_type": "code",
      "source": [
        "# Подсчет пропущенных значений\n",
        "missing_values = data.isnull().sum()\n",
        "print(\"Пропущенные значения:\")\n",
        "print(missing_values)"
      ],
      "metadata": {
        "colab": {
          "base_uri": "https://localhost:8080/"
        },
        "id": "iMvrDVfikXol",
        "outputId": "9fc79b94-0fd1-4dd0-8ae0-58a9e0add09e"
      },
      "execution_count": 14,
      "outputs": [
        {
          "output_type": "stream",
          "name": "stdout",
          "text": [
            "Пропущенные значения:\n",
            "date            0\n",
            "meantemp        0\n",
            "humidity        0\n",
            "wind_speed      0\n",
            "meanpressure    0\n",
            "dtype: int64\n"
          ]
        }
      ]
    },
    {
      "cell_type": "markdown",
      "source": [
        "2. Определение причин пропусков (случайные, системные ошибки, временные зависимости).\n",
        "\n"
      ],
      "metadata": {
        "id": "wNZQP0hJhldF"
      }
    },
    {
      "cell_type": "code",
      "source": [
        "# пропусков нет"
      ],
      "metadata": {
        "id": "WZvc9PDjkX_t"
      },
      "execution_count": null,
      "outputs": []
    },
    {
      "cell_type": "markdown",
      "source": [
        "### **2.2. Методы обработки**\n"
      ],
      "metadata": {
        "id": "Gs3heAM-hoFl"
      }
    },
    {
      "cell_type": "markdown",
      "source": [
        "1. **Для категориальных данных**:\n",
        "   - Замена на моду или добавление уровня \"Unknown\".\n"
      ],
      "metadata": {
        "id": "HdUZiy2pho3l"
      }
    },
    {
      "cell_type": "code",
      "source": [
        "# пропусков нет"
      ],
      "metadata": {
        "id": "99S7u-DQkYd0"
      },
      "execution_count": null,
      "outputs": []
    },
    {
      "cell_type": "markdown",
      "source": [
        "2. **Для числовых данных**:\n",
        "   - Замена на медиану, среднее или интерполяция.\n",
        "   - Удаление строк/столбцов, если доля пропусков превышает 30%.\n",
        "\n",
        "\n",
        "\n"
      ],
      "metadata": {
        "id": "mF5xVFvyhpq1"
      }
    },
    {
      "cell_type": "code",
      "source": [
        "# пропусков нет"
      ],
      "metadata": {
        "id": "WJBBmUN6kY50"
      },
      "execution_count": null,
      "outputs": []
    },
    {
      "cell_type": "markdown",
      "source": [
        "## **3. Обработка выбросов**\n",
        "\n"
      ],
      "metadata": {
        "id": "QBpczDBRhqqt"
      }
    },
    {
      "cell_type": "markdown",
      "source": [
        "### **3.1. Выявление выбросов**"
      ],
      "metadata": {
        "id": "zsyrfdl8hriF"
      }
    },
    {
      "cell_type": "markdown",
      "source": [
        "1. **Метод IQR**:\n",
        "   - Вычисление границ выбросов:  \n",
        "     $Q1 - 1.5 \\times IQR$ и $Q3 + 1.5 \\times IQR$.\n"
      ],
      "metadata": {
        "id": "S4K6Z3M9hsYN"
      }
    },
    {
      "cell_type": "code",
      "source": [
        "# Вычисление IQR для столбца 'meantemp'\n",
        "Q1 = data['meantemp'].quantile(0.25)\n",
        "Q3 = data['meantemp'].quantile(0.75)\n",
        "IQR = Q3 - Q1\n",
        "\n",
        "# Границы для выбросов\n",
        "lower_bound = Q1 - 1.5 * IQR\n",
        "upper_bound = Q3 + 1.5 * IQR\n",
        "\n",
        "# Выявление выбросов\n",
        "outliers = data[(data['meantemp'] < lower_bound) | (data['meantemp'] > upper_bound)]\n",
        "print(\"Выбросы по методу IQR:\")\n",
        "print(outliers)"
      ],
      "metadata": {
        "colab": {
          "base_uri": "https://localhost:8080/"
        },
        "id": "K1fP9PwQkZic",
        "outputId": "9ad526c1-cd3a-459f-ef3f-c249066cdf39"
      },
      "execution_count": 17,
      "outputs": [
        {
          "output_type": "stream",
          "name": "stdout",
          "text": [
            "Выбросы по методу IQR:\n",
            "Empty DataFrame\n",
            "Columns: [date, meantemp, humidity, wind_speed, meanpressure]\n",
            "Index: []\n"
          ]
        }
      ]
    },
    {
      "cell_type": "markdown",
      "source": [
        "2. **Метод трех сигм**:\n",
        "   - Границы: $\\mu - 3\\sigma$ и $\\mu + 3\\sigma$.\n"
      ],
      "metadata": {
        "id": "hsecVatRhukV"
      }
    },
    {
      "cell_type": "code",
      "source": [
        "# Вычисление среднего и стандартного отклонения\n",
        "mean = data['meantemp'].mean()\n",
        "std = data['meantemp'].std()\n",
        "\n",
        "# Границы для выбросов\n",
        "lower_bound_sigma = mean - 3 * std\n",
        "upper_bound_sigma = mean + 3 * std\n",
        "\n",
        "# Выявление выбросов\n",
        "outliers_sigma = data[(data['meantemp'] < lower_bound_sigma) | (data['meantemp'] > upper_bound_sigma)]\n",
        "print(\"Выбросы по методу трех сигм:\")\n",
        "print(outliers_sigma)"
      ],
      "metadata": {
        "colab": {
          "base_uri": "https://localhost:8080/"
        },
        "id": "Z2rwtI9MkZ71",
        "outputId": "5d49f878-dc88-40fa-e047-37663209c299"
      },
      "execution_count": 18,
      "outputs": [
        {
          "output_type": "stream",
          "name": "stdout",
          "text": [
            "Выбросы по методу трех сигм:\n",
            "Empty DataFrame\n",
            "Columns: [date, meantemp, humidity, wind_speed, meanpressure]\n",
            "Index: []\n"
          ]
        }
      ]
    },
    {
      "cell_type": "markdown",
      "source": [
        "3. Использование методов машинного обучения (например, Isolation Forest).\n",
        "\n"
      ],
      "metadata": {
        "id": "zNISURYGhvU0"
      }
    },
    {
      "cell_type": "code",
      "source": [
        "from sklearn.ensemble import IsolationForest\n",
        "import numpy as np\n",
        "\n",
        "# Подготовка данных\n",
        "X = data[['meantemp', 'humidity', 'wind_speed', 'meanpressure']]\n",
        "\n",
        "# Обучение модели Isolation Forest\n",
        "model = IsolationForest(contamination=0.05)  # contamination - доля выбросов\n",
        "model.fit(X)\n",
        "\n",
        "# Предсказание выбросов\n",
        "data['anomaly'] = model.predict(X)\n",
        "\n",
        "# Выбросы (аномалии)\n",
        "outliers_iso = data[data['anomaly'] == -1]\n",
        "print(\"Выбросы по методу Isolation Forest:\")\n",
        "print(outliers_iso)"
      ],
      "metadata": {
        "colab": {
          "base_uri": "https://localhost:8080/"
        },
        "id": "7_yTSuNDkap0",
        "outputId": "baa82464-c6db-4b53-e574-fb567ec9b39d"
      },
      "execution_count": 19,
      "outputs": [
        {
          "output_type": "stream",
          "name": "stdout",
          "text": [
            "Выбросы по методу Isolation Forest:\n",
            "            date   meantemp    humidity  wind_speed  meanpressure  anomaly\n",
            "0     2013-01-01  10.000000   84.500000    0.000000   1015.666667       -1\n",
            "1     2013-01-02   7.400000   92.000000    2.980000   1017.800000       -1\n",
            "2     2013-01-03   7.166667   87.000000    4.633333   1018.666667       -1\n",
            "4     2013-01-05   6.000000   86.833333    3.700000   1016.500000       -1\n",
            "5     2013-01-06   7.000000   82.800000    1.480000   1018.000000       -1\n",
            "...          ...        ...         ...         ...           ...      ...\n",
            "1425  2016-11-26  24.294118   32.647059   14.494118   1013.250000       -1\n",
            "1427  2016-11-28  22.454545   37.318182    9.185714     12.045455       -1\n",
            "1450  2016-12-21  18.050000   54.300000   19.404762   1015.619048       -1\n",
            "1454  2016-12-25  14.000000   94.300000    9.085000   1014.350000       -1\n",
            "1461  2017-01-01  10.000000  100.000000    0.000000   1016.000000       -1\n",
            "\n",
            "[74 rows x 6 columns]\n"
          ]
        }
      ]
    },
    {
      "cell_type": "markdown",
      "source": [
        "### **3.2. Обработка выбросов**\n"
      ],
      "metadata": {
        "id": "90qjDZrthv_l"
      }
    },
    {
      "cell_type": "markdown",
      "source": [
        "1. Замена выбросов на медиану или ближайшее допустимое значение.\n"
      ],
      "metadata": {
        "id": "dgi8EWHrhw09"
      }
    },
    {
      "cell_type": "code",
      "source": [],
      "metadata": {
        "id": "PukpAIyrkbbM"
      },
      "execution_count": null,
      "outputs": []
    },
    {
      "cell_type": "markdown",
      "source": [
        "2. Удаление выбросов, если их доля мала (< 5%)."
      ],
      "metadata": {
        "id": "izlT_xwZhxc1"
      }
    },
    {
      "cell_type": "code",
      "source": [
        "# Вычисление доли выбросов\n",
        "outliers = data[(data['meantemp'] < lower_bound) | (data['meantemp'] > upper_bound)]\n",
        "outlier_ratio = len(outliers) / len(data)\n",
        "print(f\"Доля выбросов: {outlier_ratio:.2%}\")\n",
        "\n",
        "# Удаление выбросов, если их доля мала\n",
        "if outlier_ratio < 0.05:  # Меньше 5%\n",
        "    data_cleaned = data[(data['meantemp'] >= lower_bound) & (data['meantemp'] <= upper_bound)]\n",
        "else:\n",
        "    print(\"Доля выбросов слишком велика для удаления.\")\n",
        "\n",
        "# Проверка результата\n",
        "print(\"Данные после удаления выбросов:\")\n",
        "print(data_cleaned['meantemp'].describe())"
      ],
      "metadata": {
        "colab": {
          "base_uri": "https://localhost:8080/"
        },
        "id": "Kl8Q-hnpkcKs",
        "outputId": "8cca0763-8f33-475c-d72f-f8752a071fbc"
      },
      "execution_count": 20,
      "outputs": [
        {
          "output_type": "stream",
          "name": "stdout",
          "text": [
            "Доля выбросов: 0.00%\n",
            "Данные после удаления выбросов:\n",
            "count    1462.000000\n",
            "mean       25.495521\n",
            "std         7.348103\n",
            "min         6.000000\n",
            "25%        18.857143\n",
            "50%        27.714286\n",
            "75%        31.305804\n",
            "max        38.714286\n",
            "Name: meantemp, dtype: float64\n"
          ]
        }
      ]
    },
    {
      "cell_type": "markdown",
      "source": [
        "## **4. Проверка стационарности и трендов**\n",
        "\n"
      ],
      "metadata": {
        "id": "sO05Si2XhyiF"
      }
    },
    {
      "cell_type": "markdown",
      "source": [
        "### **4.1. Гипотезы**\n",
        "- $H₀$: Временной ряд стационарен.  \n",
        "- $H₁$: Временной ряд нестационарен."
      ],
      "metadata": {
        "id": "3S9kgpU0hzfd"
      }
    },
    {
      "cell_type": "markdown",
      "source": [
        "### **4.2. Методы проверки**\n"
      ],
      "metadata": {
        "id": "N5v_1dhBh0RE"
      }
    },
    {
      "cell_type": "markdown",
      "source": [
        "1. **ADF (Augmented Dickey-Fuller):**  \n",
        "   $p\\text{-value} < 0.05$ — стационарность подтверждается.\n"
      ],
      "metadata": {
        "id": "jvvNhgZih2mW"
      }
    },
    {
      "cell_type": "code",
      "source": [
        "from statsmodels.tsa.stattools import adfuller\n",
        "\n",
        "# Пример данных (столбец 'meantemp')\n",
        "result = adfuller(data['meantemp'])\n",
        "\n",
        "# Вывод результатов\n",
        "print('ADF Statistic:', result[0])\n",
        "print('p-value:', result[1])\n",
        "print('Critical Values:')\n",
        "for key, value in result[4].items():\n",
        "    print(f'   {key}: {value}')\n",
        "\n",
        "# Интерпретация\n",
        "if result[1] < 0.05:\n",
        "    print(\"Ряд стационарен (отвергаем H₀)\")\n",
        "else:\n",
        "    print(\"Ряд нестационарен (не можем отвергнуть H₀)\")"
      ],
      "metadata": {
        "colab": {
          "base_uri": "https://localhost:8080/"
        },
        "id": "zVNWEmMBkgX8",
        "outputId": "6c9d5aaf-7037-47bd-f9e1-e2cd6a0ca718"
      },
      "execution_count": 21,
      "outputs": [
        {
          "output_type": "stream",
          "name": "stdout",
          "text": [
            "ADF Statistic: -2.0210690559206737\n",
            "p-value: 0.2774121372301601\n",
            "Critical Values:\n",
            "   1%: -3.4348647527922824\n",
            "   5%: -2.863533960720434\n",
            "   10%: -2.567831568508802\n",
            "Ряд нестационарен (не можем отвергнуть H₀)\n"
          ]
        }
      ]
    },
    {
      "cell_type": "markdown",
      "source": [
        "2. **KPSS:**  \n",
        "   $p\\text{-value} < 0.05$ — ряд нестационарен.\n",
        "\n"
      ],
      "metadata": {
        "id": "gThjQsJnh3Tt"
      }
    },
    {
      "cell_type": "code",
      "source": [
        "from statsmodels.tsa.stattools import kpss\n",
        "\n",
        "# Пример данных (столбец 'meantemp')\n",
        "result = kpss(data['meantemp'])\n",
        "\n",
        "# Вывод результатов\n",
        "print('KPSS Statistic:', result[0])\n",
        "print('p-value:', result[1])\n",
        "print('Critical Values:')\n",
        "for key, value in result[3].items():\n",
        "    print(f'   {key}: {value}')\n",
        "\n",
        "# Интерпретация\n",
        "if result[1] < 0.05:\n",
        "    print(\"Ряд нестационарен (отвергаем H₀)\")\n",
        "else:\n",
        "    print(\"Ряд стационарен (не можем отвергнуть H₀)\")\n"
      ],
      "metadata": {
        "colab": {
          "base_uri": "https://localhost:8080/"
        },
        "id": "JG5PXdQ5kgzc",
        "outputId": "e10d5ced-547b-46e8-eb3e-411f98d1819e"
      },
      "execution_count": 22,
      "outputs": [
        {
          "output_type": "stream",
          "name": "stdout",
          "text": [
            "KPSS Statistic: 0.18786352260533618\n",
            "p-value: 0.1\n",
            "Critical Values:\n",
            "   10%: 0.347\n",
            "   5%: 0.463\n",
            "   2.5%: 0.574\n",
            "   1%: 0.739\n",
            "Ряд стационарен (не можем отвергнуть H₀)\n"
          ]
        },
        {
          "output_type": "stream",
          "name": "stderr",
          "text": [
            "<ipython-input-22-51f8c6ceb979>:4: InterpolationWarning: The test statistic is outside of the range of p-values available in the\n",
            "look-up table. The actual p-value is greater than the p-value returned.\n",
            "\n",
            "  result = kpss(data['meantemp'])\n"
          ]
        }
      ]
    },
    {
      "cell_type": "markdown",
      "source": [
        "### **4.3. Обработка нестационарности**\n"
      ],
      "metadata": {
        "id": "HuUlWjE2h4EE"
      }
    },
    {
      "cell_type": "markdown",
      "source": [
        "1. Дифференцирование: удаление тренда с помощью разности первого порядка.\n"
      ],
      "metadata": {
        "id": "GfdaXyPbh40M"
      }
    },
    {
      "cell_type": "code",
      "source": [
        "data['meantemp_diff'] = data['meantemp'].diff().dropna()ё"
      ],
      "metadata": {
        "id": "njrfvcd6kiQN"
      },
      "execution_count": 23,
      "outputs": []
    },
    {
      "cell_type": "code",
      "source": [
        "data.info()"
      ],
      "metadata": {
        "colab": {
          "base_uri": "https://localhost:8080/"
        },
        "id": "HVCNqAgevhmZ",
        "outputId": "c1a8233a-fafc-4b2c-ba9d-d170838477d8"
      },
      "execution_count": 26,
      "outputs": [
        {
          "output_type": "stream",
          "name": "stdout",
          "text": [
            "<class 'pandas.core.frame.DataFrame'>\n",
            "RangeIndex: 1462 entries, 0 to 1461\n",
            "Data columns (total 8 columns):\n",
            " #   Column         Non-Null Count  Dtype  \n",
            "---  ------         --------------  -----  \n",
            " 0   date           1462 non-null   object \n",
            " 1   meantemp       1462 non-null   float64\n",
            " 2   humidity       1462 non-null   float64\n",
            " 3   wind_speed     1462 non-null   float64\n",
            " 4   meanpressure   1462 non-null   float64\n",
            " 5   anomaly        1462 non-null   int64  \n",
            " 6   meantemp_diff  1461 non-null   float64\n",
            " 7   meantemp_log   1462 non-null   float64\n",
            "dtypes: float64(6), int64(1), object(1)\n",
            "memory usage: 91.5+ KB\n"
          ]
        }
      ]
    },
    {
      "cell_type": "markdown",
      "source": [
        "2. Декомпозиция на тренд, сезонность и шум.\n",
        "\n",
        "\n",
        "\n"
      ],
      "metadata": {
        "id": "kGS0JnHVh5al"
      }
    },
    {
      "cell_type": "code",
      "source": [
        "import numpy as np\n",
        "data['meantemp_log'] = np.log(data['meantemp'])"
      ],
      "metadata": {
        "id": "s29wG7tOki0U"
      },
      "execution_count": 24,
      "outputs": []
    },
    {
      "cell_type": "markdown",
      "source": [
        "## **5. Анализ взаимосвязей и мультиколлинеарности**\n",
        "\n"
      ],
      "metadata": {
        "id": "ZHgj3yMth6Es"
      }
    },
    {
      "cell_type": "markdown",
      "source": [
        "### **5.1. Мультиколлинеарность**\n"
      ],
      "metadata": {
        "id": "rFYSepRih61E"
      }
    },
    {
      "cell_type": "markdown",
      "source": [
        "1. Вычисление **VIF** (Variance Inflation Factor):\n",
        "   - Признаки с $VIF > 5$ требуют исключения или трансформации.\n"
      ],
      "metadata": {
        "id": "nGzG2n3Ph7q0"
      }
    },
    {
      "cell_type": "code",
      "source": [],
      "metadata": {
        "id": "sw36lVGWkj10"
      },
      "execution_count": null,
      "outputs": []
    },
    {
      "cell_type": "markdown",
      "source": [
        "2. Применение PCA для уменьшения размерности.\n",
        "\n"
      ],
      "metadata": {
        "id": "BygWpU_Zh8VU"
      }
    },
    {
      "cell_type": "code",
      "source": [],
      "metadata": {
        "id": "4-BSgo-MkkOk"
      },
      "execution_count": null,
      "outputs": []
    },
    {
      "cell_type": "markdown",
      "source": [
        "### **5.2. Корреляционный анализ**\n"
      ],
      "metadata": {
        "id": "ak0XeCJOh8_F"
      }
    },
    {
      "cell_type": "markdown",
      "source": [
        "1. Построение корреляционной матрицы.\n"
      ],
      "metadata": {
        "id": "PXBXlIcch9lM"
      }
    },
    {
      "cell_type": "code",
      "source": [],
      "metadata": {
        "id": "WLj8Is1_kk6F"
      },
      "execution_count": null,
      "outputs": []
    },
    {
      "cell_type": "markdown",
      "source": [
        "2. Визуализация матрицы (например, с использованием heatmap).\n",
        "\n",
        "\n",
        "\n"
      ],
      "metadata": {
        "id": "QJ3u9zBSh-IM"
      }
    },
    {
      "cell_type": "code",
      "source": [],
      "metadata": {
        "id": "FTQxOZIeklXs"
      },
      "execution_count": null,
      "outputs": []
    },
    {
      "cell_type": "markdown",
      "source": [
        "## **6. Преобразование данных**\n",
        "\n"
      ],
      "metadata": {
        "id": "coMm-d-rh-3c"
      }
    },
    {
      "cell_type": "markdown",
      "source": [
        "### **6.1. Преобразование числовых данных**\n"
      ],
      "metadata": {
        "id": "IvGb2AAdh_ok"
      }
    },
    {
      "cell_type": "markdown",
      "source": [
        "1. Нормализация (Min-Max Scaling) для методов, чувствительных к масштабу.\n",
        "\n"
      ],
      "metadata": {
        "id": "2OZONmMsiAM8"
      }
    },
    {
      "cell_type": "code",
      "source": [],
      "metadata": {
        "id": "oXOtRYT-knC8"
      },
      "execution_count": null,
      "outputs": []
    },
    {
      "cell_type": "markdown",
      "source": [
        "2. Стандартизация (Standard Scaling) для методов, требующих нормального распределения.\n",
        "\n"
      ],
      "metadata": {
        "id": "nCAfyfMQiBZ9"
      }
    },
    {
      "cell_type": "code",
      "source": [],
      "metadata": {
        "id": "Pzt7U7b2knZ8"
      },
      "execution_count": null,
      "outputs": []
    },
    {
      "cell_type": "markdown",
      "source": [
        "### **6.2. Обработка категорий**\n"
      ],
      "metadata": {
        "id": "reIPLZCfiCLU"
      }
    },
    {
      "cell_type": "markdown",
      "source": [
        "1. Кодирование категориальных признаков:\n",
        "   - One-Hot Encoding — для независимых категорий.\n",
        "   - Label Encoding — для упорядоченных категорий.\n"
      ],
      "metadata": {
        "id": "uqQM58xjiCy1"
      }
    },
    {
      "cell_type": "code",
      "source": [],
      "metadata": {
        "id": "GnFT6xiTkn9E"
      },
      "execution_count": null,
      "outputs": []
    },
    {
      "cell_type": "markdown",
      "source": [
        "2. Группировка редких категорий в общий уровень (\"Other\").\n",
        "\n",
        "\n",
        "\n"
      ],
      "metadata": {
        "id": "y06o7kctiDid"
      }
    },
    {
      "cell_type": "code",
      "source": [],
      "metadata": {
        "id": "KsTtBrwFkoV0"
      },
      "execution_count": null,
      "outputs": []
    },
    {
      "cell_type": "markdown",
      "source": [
        "## **7. Проверка распределений**\n",
        "\n"
      ],
      "metadata": {
        "id": "ZqsVP23BiEOd"
      }
    },
    {
      "cell_type": "markdown",
      "source": [
        "### **7.1. Нормальность**\n"
      ],
      "metadata": {
        "id": "7rGnB-51iE4F"
      }
    },
    {
      "cell_type": "markdown",
      "source": [
        "1. Тесты (Шапиро-Уилк или Колмогоров-Смирнов):  \n",
        "   $p\\text{-value} < 0.05$ указывает на отклонение от нормального распределения.\n"
      ],
      "metadata": {
        "id": "nRCMoM22iFhl"
      }
    },
    {
      "cell_type": "code",
      "source": [],
      "metadata": {
        "id": "WSd1vLfhko_l"
      },
      "execution_count": null,
      "outputs": []
    },
    {
      "cell_type": "markdown",
      "source": [
        "2. Q-Q графики для визуального анализа.\n",
        "\n"
      ],
      "metadata": {
        "id": "W8UEJ8WOiGJ1"
      }
    },
    {
      "cell_type": "code",
      "source": [],
      "metadata": {
        "id": "gXAq-e2hkpet"
      },
      "execution_count": null,
      "outputs": []
    },
    {
      "cell_type": "markdown",
      "source": [
        "### **7.2. Трансформация признаков**\n"
      ],
      "metadata": {
        "id": "gNViO6T4iGxV"
      }
    },
    {
      "cell_type": "markdown",
      "source": [
        "1. Логарифмическое преобразование.\n"
      ],
      "metadata": {
        "id": "mWm2-ccriHX1"
      }
    },
    {
      "cell_type": "code",
      "source": [],
      "metadata": {
        "id": "n2eAuREbkp5F"
      },
      "execution_count": null,
      "outputs": []
    },
    {
      "cell_type": "markdown",
      "source": [
        "2. Преобразование Бокса-Кокса.\n",
        "\n",
        "\n",
        "\n"
      ],
      "metadata": {
        "id": "JsGWVdhCiIEF"
      }
    },
    {
      "cell_type": "code",
      "source": [],
      "metadata": {
        "id": "ZKVGu87AkqaF"
      },
      "execution_count": null,
      "outputs": []
    },
    {
      "cell_type": "markdown",
      "source": [
        "## **8. Проверка гипотез**\n",
        "\n"
      ],
      "metadata": {
        "id": "5l4E3AhGiIvs"
      }
    },
    {
      "cell_type": "markdown",
      "source": [
        "### **8.1. Значимость признаков**\n"
      ],
      "metadata": {
        "id": "Jr52By-piJWl"
      }
    },
    {
      "cell_type": "markdown",
      "source": [
        "1. **t-тест** — для сравнения двух групп.\n"
      ],
      "metadata": {
        "id": "4Wmzm1-5iMhl"
      }
    },
    {
      "cell_type": "code",
      "source": [],
      "metadata": {
        "id": "JQjjCED3kq6U"
      },
      "execution_count": null,
      "outputs": []
    },
    {
      "cell_type": "markdown",
      "source": [
        "2. **ANOVA** — для анализа различий между несколькими группами.\n",
        "\n"
      ],
      "metadata": {
        "id": "PL4NuffWiNGF"
      }
    },
    {
      "cell_type": "code",
      "source": [],
      "metadata": {
        "id": "RFt17IXKkrg9"
      },
      "execution_count": null,
      "outputs": []
    },
    {
      "cell_type": "markdown",
      "source": [
        "### **8.2. Анализ дисперсий**\n"
      ],
      "metadata": {
        "id": "XWXXHxhYiNuV"
      }
    },
    {
      "cell_type": "markdown",
      "source": [
        "1. Тест Левене:\n",
        "   $p\\text{-value} < 0.05$ — различия дисперсий значимы.\n",
        "\n",
        "\n",
        "\n"
      ],
      "metadata": {
        "id": "3letUGBQiOS1"
      }
    },
    {
      "cell_type": "code",
      "source": [],
      "metadata": {
        "id": "MRNHm3VWkr-d"
      },
      "execution_count": null,
      "outputs": []
    },
    {
      "cell_type": "markdown",
      "source": [
        "## **9. Time Series Cross-Validation**\n"
      ],
      "metadata": {
        "id": "FZSIxUkQiPEF"
      }
    },
    {
      "cell_type": "markdown",
      "source": [
        "1. Учет временной последовательности:\n",
        "   - Разделение данных с использованием метода скользящего окна.\n"
      ],
      "metadata": {
        "id": "SaHuJIQWiPpt"
      }
    },
    {
      "cell_type": "code",
      "source": [],
      "metadata": {
        "id": "EqmWCCFHktRl"
      },
      "execution_count": null,
      "outputs": []
    },
    {
      "cell_type": "markdown",
      "source": [
        "2. Оценка устойчивости модели на временных подвыборках.\n",
        "\n",
        "\n",
        "\n"
      ],
      "metadata": {
        "id": "0BekSrABiQUW"
      }
    },
    {
      "cell_type": "code",
      "source": [],
      "metadata": {
        "id": "dQd8MSv5kt5N"
      },
      "execution_count": null,
      "outputs": []
    },
    {
      "cell_type": "markdown",
      "source": [
        "## **10. Генерация новых признаков**\n",
        "\n"
      ],
      "metadata": {
        "id": "wr6vTQNxiRBF"
      }
    },
    {
      "cell_type": "markdown",
      "source": [
        "### **10.1. Инженерия признаков**\n"
      ],
      "metadata": {
        "id": "PRDg7N7QiRnt"
      }
    },
    {
      "cell_type": "markdown",
      "source": [
        "1. Лаговые признаки (lag features).\n"
      ],
      "metadata": {
        "id": "TtK_Gus_iSK9"
      }
    },
    {
      "cell_type": "code",
      "source": [],
      "metadata": {
        "id": "wZ8CAGd6kueV"
      },
      "execution_count": null,
      "outputs": []
    },
    {
      "cell_type": "markdown",
      "source": [
        "2. Сезонные признаки (месяц, день недели).\n"
      ],
      "metadata": {
        "id": "vwLYHRIDiSul"
      }
    },
    {
      "cell_type": "code",
      "source": [],
      "metadata": {
        "id": "BFJBEpUTku4t"
      },
      "execution_count": null,
      "outputs": []
    },
    {
      "cell_type": "markdown",
      "source": [
        "3. Агрегация (например, средние значения за неделю).\n",
        "\n"
      ],
      "metadata": {
        "id": "FaJZkLcriTSN"
      }
    },
    {
      "cell_type": "markdown",
      "source": [
        "### **10.2. Удаление избыточных признаков**\n"
      ],
      "metadata": {
        "id": "bbQ80BBniT_F"
      }
    },
    {
      "cell_type": "markdown",
      "source": [
        "1. Использование методов отбора признаков (Lasso, RFE).\n"
      ],
      "metadata": {
        "id": "ltWLYrlniUf1"
      }
    },
    {
      "cell_type": "code",
      "source": [],
      "metadata": {
        "id": "mjpD6_DHiVbV"
      },
      "execution_count": null,
      "outputs": []
    }
  ]
}