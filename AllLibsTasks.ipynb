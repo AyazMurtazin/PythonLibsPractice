{
  "nbformat": 4,
  "nbformat_minor": 0,
  "metadata": {
    "colab": {
      "provenance": [],
      "authorship_tag": "ABX9TyNSWPvXMg186Mjnu9gnbnLx",
      "include_colab_link": true
    },
    "kernelspec": {
      "name": "python3",
      "display_name": "Python 3"
    },
    "language_info": {
      "name": "python"
    }
  },
  "cells": [
    {
      "cell_type": "markdown",
      "metadata": {
        "id": "view-in-github",
        "colab_type": "text"
      },
      "source": [
        "<a href=\"https://colab.research.google.com/github/AyazMurtazin/PythonLibsPractice/blob/main/AllLibsTasks.ipynb\" target=\"_parent\"><img src=\"https://colab.research.google.com/assets/colab-badge.svg\" alt=\"Open In Colab\"/></a>"
      ]
    },
    {
      "cell_type": "markdown",
      "source": [
        "# NumPy"
      ],
      "metadata": {
        "id": "LPpzv9A09_ZC"
      }
    },
    {
      "cell_type": "markdown",
      "source": [
        "## Задания для самостоятельных работ\n",
        "\n",
        "1. Создайте двумерный массив и транспонируйте его\n",
        "2. Создайте массив с произвольными целыми числами от 0 до 100. Найдите и выведите все элементы, которые являются кратными 5"
      ],
      "metadata": {
        "id": "gmy1e_qfUmsL"
      }
    },
    {
      "cell_type": "markdown",
      "source": [
        "# Plotly"
      ],
      "metadata": {
        "id": "rgAswqGjD1RD"
      }
    },
    {
      "cell_type": "markdown",
      "source": [
        "## Задачи для самостоятельной работы\n",
        "\n",
        "1. **Создание 3D графика**: Постройте 3D точечную диаграмму с случайными данными.\n",
        "2. **Работа с данными из CSV**: Загрузите данные из CSV файла и визуализируйте их с помощью Plotly."
      ],
      "metadata": {
        "id": "e5xdzOViWA_W"
      }
    },
    {
      "cell_type": "markdown",
      "source": [
        "# Pandas\n"
      ],
      "metadata": {
        "id": "NbBWb_5DDXss"
      }
    },
    {
      "cell_type": "markdown",
      "source": [
        "## Задачи для самостоятельной работы\n",
        "\n",
        "### Структура данных Series\n",
        "\n",
        "1. Создание Series из списка\n",
        "   Создайте Series из списка чисел `[5, 10, 15, 20, 25]`. Выведите её на экран.\n",
        "\n",
        "### Структура данных DataFrame в Pandas\n",
        "\n",
        "26. Объедините два DataFrame по общему столбцу с помощью метода `merge()`.\n"
      ],
      "metadata": {
        "id": "HDoIs3AtD7QT"
      }
    },
    {
      "cell_type": "markdown",
      "source": [
        "# SciPy"
      ],
      "metadata": {
        "id": "UI6aS6cHD6od"
      }
    },
    {
      "cell_type": "markdown",
      "source": [
        "## Задачи для самостоятельной работы\n",
        "\n",
        "### Линейной алгебры\n",
        "\n",
        "1. Решение системы уравнений\n",
        "\\begin{cases}\n",
        "3x_1 + 4x_2 = 10 \\\\\n",
        "5x_1 + 6x_2 = 12\n",
        "\\end{cases}\n",
        "\n",
        "### Численное интегрирование\n",
        "\n",
        "30. Вычислите интеграл функции\n",
        "$$\n",
        "f(x) = \\frac{1}{x}\n",
        "$$\n",
        "на интервале ([1, e]) c помощью quad.\n"
      ],
      "metadata": {
        "id": "ioBrZCVsD7Wa"
      }
    },
    {
      "cell_type": "markdown",
      "source": [
        "# Seaborn\n",
        "\n",
        "## Задачи для самостоятельной работы\n",
        "\n",
        "10. Использовать FacetGrid: Создайте FacetGrid для построения scatterplot для total_bill и tip, разделяя по переменной sex.\n",
        "\n",
        "12. Добавить линейную регрессию: Постройте линейную регрессию для total_bill и tip, разделяя по переменной sex."
      ],
      "metadata": {
        "id": "crBj_e7GD7b6"
      }
    },
    {
      "cell_type": "markdown",
      "source": [
        "# Scikit-learn\n",
        "\n",
        "## Задачи для самостоятельной работы\n",
        "\n",
        "5. Постройте модель логистической регрессии на наборе данных \"Ирисы\" и оцените ее точность."
      ],
      "metadata": {
        "id": "SYnnOgfFD7gF"
      }
    },
    {
      "cell_type": "markdown",
      "source": [
        "# OpenCV"
      ],
      "metadata": {
        "id": "p0ypUj2bD7kC"
      }
    },
    {
      "cell_type": "markdown",
      "source": [
        "## Задачи для самостоятельной работы\n",
        "\n",
        "1. Обнаружение лиц: Напишите программу, которая использует каскад Хаара для обнаружения лиц на изображении.\n",
        "2. Сегментация изображения: Напишите код, который использует алгоритм k-means для сегментации изображения"
      ],
      "metadata": {
        "id": "zdh3jDLID7oC"
      }
    },
    {
      "cell_type": "markdown",
      "source": [
        "# NLTK"
      ],
      "metadata": {
        "id": "CJ1wAoMrD7r0"
      }
    },
    {
      "cell_type": "markdown",
      "source": [
        "## Задачи для самостоятельной работы\n",
        "\n",
        "1. Фильтрация стоп-слов: Создайте функцию, которая удаляет стоп-слова из заданного текста.\n",
        "2. Работа с корпусами: Загрузите текст из корпуса Gutenberg и выведите первые 500 символов.\n",
        "3. Сгенерировать биграмы для какого-нибудь татарского текста *"
      ],
      "metadata": {
        "id": "mjZeqWMbD7vh"
      }
    },
    {
      "cell_type": "markdown",
      "source": [
        "# Polars"
      ],
      "metadata": {
        "id": "WozuksPJD7zK"
      }
    },
    {
      "cell_type": "markdown",
      "source": [
        "## Задачи для самостоятельной работы\n",
        "\n",
        "1. Создайте Series из 5 целочисленных значений. Найдите сумму, среднее, медиану и стандартное отклонение. Результат выведите в консоль.\n",
        "\n",
        "2. Создайте DataFrame с тремя целочисленными столбцами, часть значений заполните отсутствующими данными (None). Отсутствующие данные замените на 0 с помощью преобразования. Результат выведите в консоль."
      ],
      "metadata": {
        "id": "nIZbqrczD73F"
      }
    },
    {
      "cell_type": "markdown",
      "source": [
        "# PySpark"
      ],
      "metadata": {
        "id": "asi1oYwOD77D"
      }
    },
    {
      "cell_type": "markdown",
      "source": [
        "## Задачи для самостоятельной работы\n",
        "\n",
        "1. Конкатенация строк: использовать DataFrame. Вывести результат в консоль.\n",
        "\n",
        "2. Преобразовать RDD (целочисленный набор данных) с помощью map: возвести во вторую степень и прибавить единицу. Вывести результата в консоль."
      ],
      "metadata": {
        "id": "9J0ccSg5D7_C"
      }
    },
    {
      "cell_type": "markdown",
      "source": [],
      "metadata": {
        "id": "G_YgiueRD8C8"
      }
    }
  ]
}